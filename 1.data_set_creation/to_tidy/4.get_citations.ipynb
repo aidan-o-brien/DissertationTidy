{
 "cells": [
  {
   "cell_type": "markdown",
   "metadata": {},
   "source": [
    "# Purpose\n",
    "\n",
    "The purpose of this notebook is to retrieve the citations of each paper X years after it was published. This is needed to provide a valid comparison of citation metrics between different papers. "
   ]
  },
  {
   "cell_type": "markdown",
   "metadata": {},
   "source": [
    "# Import Depedencies"
   ]
  },
  {
   "cell_type": "code",
   "execution_count": 1,
   "metadata": {},
   "outputs": [],
   "source": [
    "import pandas as pd\n",
    "import numpy as np\n",
    "import os\n",
    "from pybliometrics.scopus import ScopusSearch"
   ]
  },
  {
   "cell_type": "markdown",
   "metadata": {},
   "source": [
    "# Load Data"
   ]
  },
  {
   "cell_type": "code",
   "execution_count": 2,
   "metadata": {},
   "outputs": [],
   "source": [
    "path = os.getcwd() + r'\\final_data'\n",
    "papers = pd.read_csv(path + r'\\papers.csv')"
   ]
  },
  {
   "cell_type": "code",
   "execution_count": 3,
   "metadata": {},
   "outputs": [
    {
     "data": {
      "text/html": [
       "<div>\n",
       "<style scoped>\n",
       "    .dataframe tbody tr th:only-of-type {\n",
       "        vertical-align: middle;\n",
       "    }\n",
       "\n",
       "    .dataframe tbody tr th {\n",
       "        vertical-align: top;\n",
       "    }\n",
       "\n",
       "    .dataframe thead th {\n",
       "        text-align: right;\n",
       "    }\n",
       "</style>\n",
       "<table border=\"1\" class=\"dataframe\">\n",
       "  <thead>\n",
       "    <tr style=\"text-align: right;\">\n",
       "      <th></th>\n",
       "      <th>Unnamed: 0</th>\n",
       "      <th>eid</th>\n",
       "      <th>doi</th>\n",
       "      <th>title</th>\n",
       "      <th>afid</th>\n",
       "      <th>coverDate</th>\n",
       "      <th>publicationName</th>\n",
       "      <th>source_id</th>\n",
       "      <th>citedby_count</th>\n",
       "    </tr>\n",
       "  </thead>\n",
       "  <tbody>\n",
       "    <tr>\n",
       "      <th>0</th>\n",
       "      <td>0</td>\n",
       "      <td>2-s2.0-0034739787</td>\n",
       "      <td>10.1016/S0960-0760(00)00177-1</td>\n",
       "      <td>Regulation of steroid sulphatase expression an...</td>\n",
       "      <td>60030480.0</td>\n",
       "      <td>2000-12-31</td>\n",
       "      <td>Journal of Steroid Biochemistry and Molecular ...</td>\n",
       "      <td>14102</td>\n",
       "      <td>47</td>\n",
       "    </tr>\n",
       "  </tbody>\n",
       "</table>\n",
       "</div>"
      ],
      "text/plain": [
       "   Unnamed: 0                eid                            doi  \\\n",
       "0           0  2-s2.0-0034739787  10.1016/S0960-0760(00)00177-1   \n",
       "\n",
       "                                               title        afid   coverDate  \\\n",
       "0  Regulation of steroid sulphatase expression an...  60030480.0  2000-12-31   \n",
       "\n",
       "                                     publicationName  source_id  citedby_count  \n",
       "0  Journal of Steroid Biochemistry and Molecular ...      14102             47  "
      ]
     },
     "execution_count": 3,
     "metadata": {},
     "output_type": "execute_result"
    }
   ],
   "source": [
    "papers.head(1)"
   ]
  },
  {
   "cell_type": "markdown",
   "metadata": {},
   "source": [
    "# Obtain Citation Data"
   ]
  },
  {
   "cell_type": "code",
   "execution_count": null,
   "metadata": {},
   "outputs": [],
   "source": [
    "def get_citations(row, num_years):\n",
    "    '''Function uses a cheeky work around to find the number of citations\n",
    "    of a paper after num_years.'''\n",
    "    \n",
    "    eid = row['eid']\n",
    "    pub_year = int(row['coverDate'][:4])\n",
    "    query = f'REF({eid}) AND PUBYEAR BEF {pub_year + num_years + 1}'\n",
    "    try:\n",
    "        res = ScopusSearch(query, download=False)\n",
    "        return res.get_results_size()\n",
    "    except:\n",
    "        return np.nan"
   ]
  },
  {
   "cell_type": "code",
   "execution_count": null,
   "metadata": {},
   "outputs": [],
   "source": [
    "# Test\n",
    "get_citations(papers.iloc[0], 10)"
   ]
  },
  {
   "cell_type": "code",
   "execution_count": null,
   "metadata": {},
   "outputs": [],
   "source": [
    "papers['cites'] = papers.apply(lambda x: get_citations(x, 10), axis=1)"
   ]
  },
  {
   "cell_type": "code",
   "execution_count": null,
   "metadata": {},
   "outputs": [],
   "source": [
    "papers.head()"
   ]
  }
 ],
 "metadata": {
  "kernelspec": {
   "display_name": "Python 3",
   "language": "python",
   "name": "python3"
  },
  "language_info": {
   "codemirror_mode": {
    "name": "ipython",
    "version": 3
   },
   "file_extension": ".py",
   "mimetype": "text/x-python",
   "name": "python",
   "nbconvert_exporter": "python",
   "pygments_lexer": "ipython3",
   "version": "3.6.5"
  }
 },
 "nbformat": 4,
 "nbformat_minor": 2
}
