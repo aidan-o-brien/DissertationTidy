{
  "nbformat": 4,
  "nbformat_minor": 0,
  "metadata": {
    "colab": {
      "name": "glove_pretrained.ipynb",
      "provenance": [],
      "collapsed_sections": [],
      "authorship_tag": "ABX9TyO0nHppJ64nUQQQ9/MtoSvd"
    },
    "kernelspec": {
      "name": "python3",
      "display_name": "Python 3"
    },
    "language_info": {
      "name": "python"
    }
  },
  "cells": [
    {
      "cell_type": "markdown",
      "metadata": {
        "id": "v8XxTvzij8Qz"
      },
      "source": [
        "# Import Dependencies"
      ]
    },
    {
      "cell_type": "code",
      "metadata": {
        "id": "jrIHyXOXjyE1"
      },
      "source": [
        "import gensim.downloader as api\n",
        "from gensim import utils\n",
        "import pandas as pd\n",
        "import numpy as np\n",
        "from nltk.corpus import stopwords\n",
        "from nltk import download\n",
        "from google.colab import drive\n",
        "import os\n",
        "from tqdm import tqdm"
      ],
      "execution_count": null,
      "outputs": []
    },
    {
      "cell_type": "code",
      "metadata": {
        "colab": {
          "base_uri": "https://localhost:8080/"
        },
        "id": "WeXtxsBIkE0y",
        "outputId": "4d78a635-6c33-4066-e4af-7bc12a4fc78c"
      },
      "source": [
        "drive.mount('/content/drive')"
      ],
      "execution_count": null,
      "outputs": [
        {
          "output_type": "stream",
          "text": [
            "Drive already mounted at /content/drive; to attempt to forcibly remount, call drive.mount(\"/content/drive\", force_remount=True).\n"
          ],
          "name": "stdout"
        }
      ]
    },
    {
      "cell_type": "code",
      "metadata": {
        "id": "63mFv4zkkI09"
      },
      "source": [
        "#os.chdir(os.getcwd() + '/drive/MyDrive/Colab Notebooks')"
      ],
      "execution_count": null,
      "outputs": []
    },
    {
      "cell_type": "markdown",
      "metadata": {
        "id": "0yu83XtkkbNr"
      },
      "source": [
        "# Load GloVe and Data"
      ]
    },
    {
      "cell_type": "code",
      "metadata": {
        "id": "nJ7TyCa0kUoo"
      },
      "source": [
        "abstracts_df = pd.read_csv('abstracts.csv')"
      ],
      "execution_count": null,
      "outputs": []
    },
    {
      "cell_type": "code",
      "metadata": {
        "colab": {
          "base_uri": "https://localhost:8080/"
        },
        "id": "Ewoi3qCmlNf2",
        "outputId": "0e5cb6b8-12da-4337-9332-1caaa171ece6"
      },
      "source": [
        "vector_size = 300\n",
        "model = api.load(f'glove-wiki-gigaword-{vector_size}')"
      ],
      "execution_count": null,
      "outputs": [
        {
          "output_type": "stream",
          "text": [
            "[==================================================] 100.0% 376.1/376.1MB downloaded\n"
          ],
          "name": "stdout"
        }
      ]
    },
    {
      "cell_type": "markdown",
      "metadata": {
        "id": "Ou3z6zkSnfAB"
      },
      "source": [
        "# Pre-process Data"
      ]
    },
    {
      "cell_type": "code",
      "metadata": {
        "colab": {
          "base_uri": "https://localhost:8080/"
        },
        "id": "ILNH9yoMnYVG",
        "outputId": "f4ee3c44-6eec-4ced-e393-08f59af1feda"
      },
      "source": [
        "download('stopwords')"
      ],
      "execution_count": null,
      "outputs": [
        {
          "output_type": "stream",
          "text": [
            "[nltk_data] Downloading package stopwords to /root/nltk_data...\n",
            "[nltk_data]   Package stopwords is already up-to-date!\n"
          ],
          "name": "stdout"
        },
        {
          "output_type": "execute_result",
          "data": {
            "text/plain": [
              "True"
            ]
          },
          "metadata": {
            "tags": []
          },
          "execution_count": 26
        }
      ]
    },
    {
      "cell_type": "code",
      "metadata": {
        "id": "I4mtWIYynjE-"
      },
      "source": [
        "stop_words = stopwords.words('english')"
      ],
      "execution_count": null,
      "outputs": []
    },
    {
      "cell_type": "code",
      "metadata": {
        "id": "naW9M1bznmmN"
      },
      "source": [
        "class MyCorpus:\n",
        "\n",
        "  def __iter__(self):\n",
        "    abstracts_df.dropna(subset=['description'], inplace=True)\n",
        "    abstracts_df.reset_index(drop=True, inplace=True)\n",
        "    for _, row in abstracts_df.iterrows():\n",
        "      words = utils.simple_preprocess(row['description'])\n",
        "      # Remove stop words\n",
        "      words = [word for word in words if word not in stop_words]\n",
        "      yield words"
      ],
      "execution_count": null,
      "outputs": []
    },
    {
      "cell_type": "code",
      "metadata": {
        "id": "qYzx_wDNn_Be"
      },
      "source": [
        "docs = MyCorpus()"
      ],
      "execution_count": null,
      "outputs": []
    },
    {
      "cell_type": "markdown",
      "metadata": {
        "id": "MQ4Qe0MSoG27"
      },
      "source": [
        "# Calculate Document Embeddings"
      ]
    },
    {
      "cell_type": "code",
      "metadata": {
        "id": "l72Eva2woI60"
      },
      "source": [
        "def get_doc_embedding(glove, doc):\n",
        "  doc = [word for word in doc if word in glove.vocab]\n",
        "  return np.mean(glove[doc], axis=0)"
      ],
      "execution_count": null,
      "outputs": []
    },
    {
      "cell_type": "code",
      "metadata": {
        "id": "8AzJsBD4oclu"
      },
      "source": [
        "num_docs = 767968\n",
        "not_valid = []\n",
        "to_save = np.empty((vector_size, num_docs))\n",
        "\n",
        "for i, doc in enumerate(docs):\n",
        "  try:\n",
        "    to_save[:,i] = get_doc_embedding(model, doc)\n",
        "  except:\n",
        "    not_valid.append(i)\n",
        "    to_save[:,i] = np.zeros(vector_size)"
      ],
      "execution_count": null,
      "outputs": []
    },
    {
      "cell_type": "code",
      "metadata": {
        "id": "JRL1tJvZpBYY"
      },
      "source": [
        "np.save(f'glove_pretrained_{vector_size}', to_save)"
      ],
      "execution_count": null,
      "outputs": []
    },
    {
      "cell_type": "code",
      "metadata": {
        "id": "9-0nlRKVCGtf"
      },
      "source": [
        ""
      ],
      "execution_count": null,
      "outputs": []
    }
  ]
}
