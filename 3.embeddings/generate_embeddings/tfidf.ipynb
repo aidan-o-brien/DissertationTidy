{
  "nbformat": 4,
  "nbformat_minor": 0,
  "metadata": {
    "colab": {
      "name": "tfidf.ipynb",
      "provenance": [],
      "collapsed_sections": [],
      "mount_file_id": "1L1OUAe0kAy_eJEIpocDli41gV1uPoUoR",
      "authorship_tag": "ABX9TyNisxKV5khWNhrCJGPtgQAJ",
      "include_colab_link": true
    },
    "kernelspec": {
      "name": "python3",
      "display_name": "Python 3"
    },
    "language_info": {
      "name": "python"
    }
  },
  "cells": [
    {
      "cell_type": "markdown",
      "metadata": {
        "id": "view-in-github",
        "colab_type": "text"
      },
      "source": [
        "<a href=\"https://colab.research.google.com/github/aidan-o-brien/Dissertation/blob/main/tfidf.ipynb\" target=\"_parent\"><img src=\"https://colab.research.google.com/assets/colab-badge.svg\" alt=\"Open In Colab\"/></a>"
      ]
    },
    {
      "cell_type": "markdown",
      "metadata": {
        "id": "cRsKEnG9K5CR"
      },
      "source": [
        "# Import Dependencies"
      ]
    },
    {
      "cell_type": "code",
      "metadata": {
        "id": "-_slyduVKyE0"
      },
      "source": [
        "from sklearn.feature_extraction.text import TfidfVectorizer\n",
        "from sklearn.metrics.pairwise import cosine_similarity\n",
        "import scipy.sparse\n",
        "import pandas as pd\n",
        "import numpy as np\n",
        "from google.colab import drive\n",
        "import os\n",
        "from nltk.corpus import stopwords\n",
        "from nltk import download"
      ],
      "execution_count": null,
      "outputs": []
    },
    {
      "cell_type": "code",
      "metadata": {
        "colab": {
          "base_uri": "https://localhost:8080/"
        },
        "id": "B-uXD9RoWFHP",
        "outputId": "03491cf6-66fc-4ffa-f40f-1d52aa4729d5"
      },
      "source": [
        "drive.mount('/content/gdrive')"
      ],
      "execution_count": null,
      "outputs": [
        {
          "output_type": "stream",
          "text": [
            "Mounted at /content/gdrive\n"
          ],
          "name": "stdout"
        }
      ]
    },
    {
      "cell_type": "markdown",
      "metadata": {
        "id": "KQ3_3tchbm03"
      },
      "source": [
        "# Load and Pre-process Data"
      ]
    },
    {
      "cell_type": "code",
      "metadata": {
        "id": "gCp-5o29WsZc"
      },
      "source": [
        "os.chdir(\"/content/drive/MyDrive/Colab Notebooks/\")"
      ],
      "execution_count": null,
      "outputs": []
    },
    {
      "cell_type": "code",
      "metadata": {
        "id": "56hSXkt1brOs"
      },
      "source": [
        "corpus_df = pd.read_csv('abstracts.csv')\n",
        "corpus_df.dropna(subset=['description'], inplace=True)\n",
        "corpus_df.reset_index(drop=True, inplace=True)"
      ],
      "execution_count": null,
      "outputs": []
    },
    {
      "cell_type": "markdown",
      "metadata": {
        "id": "FBw6CO2VcQbV"
      },
      "source": [
        "# Create TFIDF Vectors"
      ]
    },
    {
      "cell_type": "code",
      "metadata": {
        "id": "TTYRRnW6cxDG",
        "colab": {
          "base_uri": "https://localhost:8080/"
        },
        "outputId": "ba4d4be0-0667-4fe4-e33d-4e8f6529d2b1"
      },
      "source": [
        "download('stopwords')"
      ],
      "execution_count": null,
      "outputs": [
        {
          "output_type": "stream",
          "text": [
            "[nltk_data] Downloading package stopwords to /root/nltk_data...\n",
            "[nltk_data]   Unzipping corpora/stopwords.zip.\n"
          ],
          "name": "stdout"
        },
        {
          "output_type": "execute_result",
          "data": {
            "text/plain": [
              "True"
            ]
          },
          "metadata": {
            "tags": []
          },
          "execution_count": 7
        }
      ]
    },
    {
      "cell_type": "code",
      "metadata": {
        "id": "U1TVTdp3cTWJ"
      },
      "source": [
        "# Parameters to pass to vectorizer\n",
        "analyzer = 'word'\n",
        "stop_words = stopwords.words('english')\n",
        "vector_size = 1000\n",
        "\n",
        "# Instantiate vectorizer class\n",
        "vectorizer = TfidfVectorizer(analyzer=analyzer, stop_words=stop_words, \n",
        "                             max_features=vector_size)\n",
        "\n",
        "# Generate sparse TF-IDF matrix\n",
        "matrix = vectorizer.fit_transform(corpus_df['description'])"
      ],
      "execution_count": null,
      "outputs": []
    },
    {
      "cell_type": "markdown",
      "metadata": {
        "id": "AEI2GHQNIuPS"
      },
      "source": [
        "# Save TF-IDF Matrix"
      ]
    },
    {
      "cell_type": "code",
      "metadata": {
        "id": "jFwZwZHucNxN"
      },
      "source": [
        "scipy.sparse.save_npz(f'tfidf_{vector_size}.npz', matrix)"
      ],
      "execution_count": null,
      "outputs": []
    },
    {
      "cell_type": "markdown",
      "metadata": {
        "id": "HSUQUVslD0kT"
      },
      "source": [
        "# Load Matrix"
      ]
    },
    {
      "cell_type": "code",
      "metadata": {
        "id": "1gS9WDx2KQ76"
      },
      "source": [
        "load = scipy.sparse.load_npz('tfidf.npz')"
      ],
      "execution_count": null,
      "outputs": []
    },
    {
      "cell_type": "code",
      "metadata": {
        "colab": {
          "base_uri": "https://localhost:8080/"
        },
        "id": "SzGcL3_cD7yA",
        "outputId": "53bc858f-54ce-42a0-a4c6-b396d5eca532"
      },
      "source": [
        "type(load)"
      ],
      "execution_count": null,
      "outputs": [
        {
          "output_type": "execute_result",
          "data": {
            "text/plain": [
              "scipy.sparse.csr.csr_matrix"
            ]
          },
          "metadata": {
            "tags": []
          },
          "execution_count": 4
        }
      ]
    },
    {
      "cell_type": "code",
      "metadata": {
        "colab": {
          "base_uri": "https://localhost:8080/"
        },
        "id": "8HJBnbC7EDFl",
        "outputId": "1133a296-4f1c-438b-c3dc-1f8678551d78"
      },
      "source": [
        "load.shape"
      ],
      "execution_count": null,
      "outputs": [
        {
          "output_type": "execute_result",
          "data": {
            "text/plain": [
              "(767968, 615972)"
            ]
          },
          "metadata": {
            "tags": []
          },
          "execution_count": 5
        }
      ]
    },
    {
      "cell_type": "code",
      "metadata": {
        "id": "g0ziAYYbET2u"
      },
      "source": [
        ""
      ],
      "execution_count": null,
      "outputs": []
    }
  ]
}
