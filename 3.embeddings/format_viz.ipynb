{
 "cells": [
  {
   "cell_type": "markdown",
   "metadata": {},
   "source": [
    "# Purpose\n",
    "\n",
    "The purpose of this notebook is to take in a numpy array which has been created as part of dimensionality reduction and then create a csv file to visualise in Tableau. The csv file be merged with `final_tidy.csv` AND get the publication title."
   ]
  },
  {
   "cell_type": "markdown",
   "metadata": {},
   "source": [
    "# Import dependencies"
   ]
  },
  {
   "cell_type": "code",
   "execution_count": 1,
   "metadata": {},
   "outputs": [],
   "source": [
    "import pandas as pd\n",
    "import numpy as np\n",
    "import os"
   ]
  },
  {
   "cell_type": "markdown",
   "metadata": {},
   "source": [
    "# Load data"
   ]
  },
  {
   "cell_type": "code",
   "execution_count": 2,
   "metadata": {},
   "outputs": [
    {
     "name": "stdout",
     "output_type": "stream",
     "text": [
      "Provide .npy file name: pca\n"
     ]
    }
   ],
   "source": [
    "# Load vectors\n",
    "fname = input('Provide .npy file name: ')\n",
    "vecs = np.load(fname + '.npy')"
   ]
  },
  {
   "cell_type": "code",
   "execution_count": 3,
   "metadata": {},
   "outputs": [
    {
     "name": "stderr",
     "output_type": "stream",
     "text": [
      "C:\\Users\\aidan\\Anaconda3\\lib\\site-packages\\IPython\\core\\interactiveshell.py:2785: DtypeWarning: Columns (5) have mixed types.Specify dtype option on import or set low_memory=False.\n",
      "  interactivity=interactivity, compiler=compiler, result=result)\n"
     ]
    }
   ],
   "source": [
    "# Load final_data.csv\n",
    "final = pd.read_csv(r'..\\final_data\\final_tidy.csv')"
   ]
  },
  {
   "cell_type": "code",
   "execution_count": 4,
   "metadata": {},
   "outputs": [],
   "source": [
    "# Load titles somehow\n",
    "titles = pd.read_csv(r'..\\final_data\\papers.csv')"
   ]
  },
  {
   "cell_type": "code",
   "execution_count": 5,
   "metadata": {
    "scrolled": true
   },
   "outputs": [],
   "source": [
    "titles = titles[['eid', 'afid', 'title']]"
   ]
  },
  {
   "cell_type": "markdown",
   "metadata": {},
   "source": [
    "# Merge data"
   ]
  },
  {
   "cell_type": "code",
   "execution_count": 6,
   "metadata": {},
   "outputs": [
    {
     "name": "stdout",
     "output_type": "stream",
     "text": [
      "(1044261, 16)\n",
      "(1044261, 17)\n"
     ]
    }
   ],
   "source": [
    "# Merge final with title\n",
    "print(final.shape)\n",
    "merged = pd.merge(final, titles, how='left', on=['eid', 'afid'])\n",
    "print(merged.shape)"
   ]
  },
  {
   "cell_type": "markdown",
   "metadata": {},
   "source": [
    "### Figure out which vectors correspond to which papers"
   ]
  },
  {
   "cell_type": "code",
   "execution_count": 7,
   "metadata": {},
   "outputs": [
    {
     "name": "stdout",
     "output_type": "stream",
     "text": [
      "828235 767968\n"
     ]
    }
   ],
   "source": [
    "# Load abstracts - vectors were created from here\n",
    "abstracts = pd.read_csv(r'..\\final_data\\abstracts.csv')\n",
    "before = abstracts.shape[0]\n",
    "abstracts.dropna(subset=['description'], inplace=True)\n",
    "abstracts.reset_index(drop=True, inplace=True)\n",
    "after = abstracts.shape[0]\n",
    "print(before, after)"
   ]
  },
  {
   "cell_type": "code",
   "execution_count": 8,
   "metadata": {},
   "outputs": [],
   "source": [
    "# Include actual abstract for sanity check\n",
    "abstracts = abstracts[['eid', 'description']]"
   ]
  },
  {
   "cell_type": "code",
   "execution_count": 9,
   "metadata": {},
   "outputs": [],
   "source": [
    "abstracts['dim_1'] = vecs[:,0]\n",
    "abstracts['dim_2'] = vecs[:,1]"
   ]
  },
  {
   "cell_type": "code",
   "execution_count": 10,
   "metadata": {},
   "outputs": [
    {
     "name": "stdout",
     "output_type": "stream",
     "text": [
      "(1044261, 17)\n",
      "(1044261, 20)\n"
     ]
    }
   ],
   "source": [
    "print(merged.shape)\n",
    "full = pd.merge(merged, abstracts, how='left', on='eid')\n",
    "print(full.shape)"
   ]
  },
  {
   "cell_type": "code",
   "execution_count": 11,
   "metadata": {},
   "outputs": [],
   "source": [
    "#full.iloc[-1,-4]"
   ]
  },
  {
   "cell_type": "code",
   "execution_count": 12,
   "metadata": {},
   "outputs": [],
   "source": [
    "#full.iloc[-1,-3]"
   ]
  },
  {
   "cell_type": "code",
   "execution_count": 13,
   "metadata": {},
   "outputs": [],
   "source": [
    "full.drop(columns=['description']).to_csv(f'final_viz_{fname}.csv')"
   ]
  },
  {
   "cell_type": "code",
   "execution_count": null,
   "metadata": {},
   "outputs": [],
   "source": []
  }
 ],
 "metadata": {
  "kernelspec": {
   "display_name": "Python 3",
   "language": "python",
   "name": "python3"
  },
  "language_info": {
   "codemirror_mode": {
    "name": "ipython",
    "version": 3
   },
   "file_extension": ".py",
   "mimetype": "text/x-python",
   "name": "python",
   "nbconvert_exporter": "python",
   "pygments_lexer": "ipython3",
   "version": "3.6.5"
  }
 },
 "nbformat": 4,
 "nbformat_minor": 2
}
