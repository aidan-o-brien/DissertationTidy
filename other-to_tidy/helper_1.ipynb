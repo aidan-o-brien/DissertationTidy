{
 "cells": [
  {
   "cell_type": "code",
   "execution_count": 1,
   "metadata": {},
   "outputs": [],
   "source": [
    "import pandas as pd\n",
    "import pyxlsb"
   ]
  },
  {
   "cell_type": "code",
   "execution_count": 2,
   "metadata": {},
   "outputs": [],
   "source": [
    "df = pd.read_csv('paper_cites.csv')"
   ]
  },
  {
   "cell_type": "code",
   "execution_count": 13,
   "metadata": {},
   "outputs": [],
   "source": [
    "df.dropna(subset=['afid'], inplace=True)"
   ]
  },
  {
   "cell_type": "code",
   "execution_count": 15,
   "metadata": {},
   "outputs": [],
   "source": [
    "df.to_csv('paper_cites.csv')"
   ]
  },
  {
   "cell_type": "code",
   "execution_count": null,
   "metadata": {},
   "outputs": [],
   "source": []
  },
  {
   "cell_type": "code",
   "execution_count": null,
   "metadata": {},
   "outputs": [],
   "source": []
  },
  {
   "cell_type": "markdown",
   "metadata": {},
   "source": [
    "# Join paper_cites and affils_w_startup"
   ]
  },
  {
   "cell_type": "code",
   "execution_count": 7,
   "metadata": {},
   "outputs": [],
   "source": [
    "papers = pd.read_csv('paper_cites.csv')\n",
    "affils = pd.read_csv('affils_w_startup.csv')"
   ]
  },
  {
   "cell_type": "code",
   "execution_count": 8,
   "metadata": {},
   "outputs": [],
   "source": [
    "# Drop unnecessary columns\n",
    "columns = ['eid', 'afid', 'source_id', 'cites']\n",
    "papers = papers[columns]"
   ]
  },
  {
   "cell_type": "code",
   "execution_count": 9,
   "metadata": {},
   "outputs": [],
   "source": [
    "columns = ['af_id', 'affil_name', 'affil_type', 'start_up']\n",
    "affils = affils[columns]"
   ]
  },
  {
   "cell_type": "code",
   "execution_count": 13,
   "metadata": {},
   "outputs": [],
   "source": [
    "# Change column name for merge\n",
    "affils.rename(columns={'af_id': 'afid'}, inplace=True)"
   ]
  },
  {
   "cell_type": "code",
   "execution_count": 15,
   "metadata": {},
   "outputs": [],
   "source": [
    "merged = pd.merge(papers, affils, how='left', on='afid')"
   ]
  },
  {
   "cell_type": "code",
   "execution_count": 21,
   "metadata": {},
   "outputs": [],
   "source": [
    "merged.dropna(subset=['affil_type'], inplace=True)"
   ]
  },
  {
   "cell_type": "code",
   "execution_count": 24,
   "metadata": {},
   "outputs": [],
   "source": [
    "merged['afid'] = merged['afid'].astype(int)"
   ]
  },
  {
   "cell_type": "code",
   "execution_count": 27,
   "metadata": {},
   "outputs": [],
   "source": [
    "merged.to_csv('paper_affils.csv')"
   ]
  },
  {
   "cell_type": "code",
   "execution_count": null,
   "metadata": {},
   "outputs": [],
   "source": []
  },
  {
   "cell_type": "code",
   "execution_count": null,
   "metadata": {},
   "outputs": [],
   "source": []
  },
  {
   "cell_type": "markdown",
   "metadata": {},
   "source": [
    "# Check merging with CiteScore"
   ]
  },
  {
   "cell_type": "code",
   "execution_count": 28,
   "metadata": {},
   "outputs": [],
   "source": [
    "cite_score = pd.read_excel('CiteScore.xlsb', sheet_name='CiteScore 2011', engine='pyxlsb')"
   ]
  },
  {
   "cell_type": "code",
   "execution_count": 12,
   "metadata": {},
   "outputs": [],
   "source": [
    "pd.options.display.max_columns = 50"
   ]
  },
  {
   "cell_type": "code",
   "execution_count": 29,
   "metadata": {},
   "outputs": [],
   "source": [
    "columns = ['Scopus Source ID', 'CiteScore', 'SJR', 'Percentile', 'RANK', 'Rank Out Of', 'Quartile', 'Title']\n",
    "cite_score = cite_score[columns].copy()"
   ]
  },
  {
   "cell_type": "code",
   "execution_count": 30,
   "metadata": {},
   "outputs": [
    {
     "data": {
      "text/html": [
       "<div>\n",
       "<style scoped>\n",
       "    .dataframe tbody tr th:only-of-type {\n",
       "        vertical-align: middle;\n",
       "    }\n",
       "\n",
       "    .dataframe tbody tr th {\n",
       "        vertical-align: top;\n",
       "    }\n",
       "\n",
       "    .dataframe thead th {\n",
       "        text-align: right;\n",
       "    }\n",
       "</style>\n",
       "<table border=\"1\" class=\"dataframe\">\n",
       "  <thead>\n",
       "    <tr style=\"text-align: right;\">\n",
       "      <th></th>\n",
       "      <th>Scopus Source ID</th>\n",
       "      <th>CiteScore</th>\n",
       "      <th>SJR</th>\n",
       "      <th>Percentile</th>\n",
       "      <th>RANK</th>\n",
       "      <th>Rank Out Of</th>\n",
       "      <th>Quartile</th>\n",
       "      <th>Title</th>\n",
       "    </tr>\n",
       "  </thead>\n",
       "  <tbody>\n",
       "    <tr>\n",
       "      <th>0</th>\n",
       "      <td>12253</td>\n",
       "      <td>0.3</td>\n",
       "      <td>0.135</td>\n",
       "      <td>27</td>\n",
       "      <td>204</td>\n",
       "      <td>281</td>\n",
       "      <td>3</td>\n",
       "      <td>China Business Review</td>\n",
       "    </tr>\n",
       "  </tbody>\n",
       "</table>\n",
       "</div>"
      ],
      "text/plain": [
       "   Scopus Source ID  CiteScore    SJR  Percentile  RANK  Rank Out Of  \\\n",
       "0             12253        0.3  0.135          27   204          281   \n",
       "\n",
       "   Quartile                  Title  \n",
       "0         3  China Business Review  "
      ]
     },
     "execution_count": 30,
     "metadata": {},
     "output_type": "execute_result"
    }
   ],
   "source": [
    "cite_score.head(1)"
   ]
  },
  {
   "cell_type": "code",
   "execution_count": 18,
   "metadata": {},
   "outputs": [],
   "source": [
    "paper_affils = pd.read_csv('paper_affils.csv')"
   ]
  },
  {
   "cell_type": "code",
   "execution_count": 19,
   "metadata": {},
   "outputs": [
    {
     "data": {
      "text/plain": [
       "1044261"
      ]
     },
     "execution_count": 19,
     "metadata": {},
     "output_type": "execute_result"
    }
   ],
   "source": [
    "paper_affils.shape[0]"
   ]
  },
  {
   "cell_type": "code",
   "execution_count": 31,
   "metadata": {},
   "outputs": [],
   "source": [
    "cite_score.rename(columns={'Scopus Source ID': 'source_id'}, inplace=True)"
   ]
  },
  {
   "cell_type": "code",
   "execution_count": 34,
   "metadata": {},
   "outputs": [],
   "source": [
    "# Merging left creates more records as there are multiple records\n",
    "# for each source_id in cite_score df\n",
    "#papers_affils_journal_qual = pd.merge(paper_affils, cite_score, how='left', on='source_id')"
   ]
  },
  {
   "cell_type": "code",
   "execution_count": 40,
   "metadata": {},
   "outputs": [],
   "source": [
    "cite_score['source_id'].to_csv('citescore_2011.csv')"
   ]
  },
  {
   "cell_type": "code",
   "execution_count": 44,
   "metadata": {},
   "outputs": [],
   "source": [
    "paper_affils['source_id'].to_csv('source_ids_in_dataset.csv')"
   ]
  },
  {
   "cell_type": "code",
   "execution_count": null,
   "metadata": {},
   "outputs": [],
   "source": []
  },
  {
   "cell_type": "code",
   "execution_count": null,
   "metadata": {},
   "outputs": [],
   "source": []
  },
  {
   "cell_type": "markdown",
   "metadata": {},
   "source": [
    "# Consolidate journal quality data\n",
    "\n",
    "We currently have the following:\n",
    "\n",
    "* `paper_affils.csv` with `source_id` variable.\n",
    "* `CiteScore.xlsb` with CiteScore 2011 tab - this includes the different research areas for each source id. Therefore, this will need to be reduced to just one research area.\n",
    "* `research_area.csv` with `source_id` - this maps one source id to one research area.\n",
    "\n",
    "To complete the analysis, `source_id` from `paper_affils.csv` needs to be mapped onto `research_area.csv` to find one research area. Then, use the source id and research area to look up the corresponding journal quality metrics in `CiteScore.xlsb`.\n",
    "\n",
    "__Steps:__\n",
    "\n",
    "1. Map `source_id` from `paper_affils.csv` onto `research_area.csv`\n",
    "2. Search `CiteScore.xlsb` for the corresponding source id and research area"
   ]
  },
  {
   "cell_type": "code",
   "execution_count": null,
   "metadata": {},
   "outputs": [],
   "source": []
  },
  {
   "cell_type": "code",
   "execution_count": null,
   "metadata": {},
   "outputs": [],
   "source": []
  },
  {
   "cell_type": "code",
   "execution_count": null,
   "metadata": {},
   "outputs": [],
   "source": []
  },
  {
   "cell_type": "markdown",
   "metadata": {},
   "source": [
    "# Consolidate CH start up location\n",
    "\n",
    "We currently have the following:\n",
    "\n",
    "* `affils_w_startup.csv` all affiliations which were able to be classified (48060) - contains `affil_city` from original Scopus data\n",
    "* `scopus_affils_startup.csv` - affiliations that were (1) classifief as a company, (2) not classified using string matching, and (3) have an established or incorporated date in or after 1990 - contains `CH_city` and `CH_post_code` from Companies House when searching\n",
    "    * NOTE: This csv file includes all matches - check `best_score > 85` for whether they were sent to FAME\n",
    "    \n",
    "It would be ideal if I could use `affil_city` as the first option for geographic data and then use `CH_city` if this does not work."
   ]
  },
  {
   "cell_type": "code",
   "execution_count": null,
   "metadata": {},
   "outputs": [],
   "source": []
  },
  {
   "cell_type": "code",
   "execution_count": null,
   "metadata": {},
   "outputs": [],
   "source": []
  },
  {
   "cell_type": "markdown",
   "metadata": {},
   "source": [
    "# Need fully consolidated data set!\n",
    "\n",
    "__Creating one data set:__\n",
    "\n",
    "1. Baseline is `paper_affils.csv` - DONE\n",
    "2. Add journal quality from `journal_qual_consolidated.xlsx` `source_id` - get `percentile_asjc` - this can be concatenated without having to join as it was pulled directly from `paper_affils.csv` - DONE\n",
    "3. Add start-up location from `start-up-location-consolidated-1.xlsx` `final_affils_startups`\n",
    "4. Add est_inc_date from `start-up-location-consolidated-1.xlsx` `final_affils_startups`"
   ]
  },
  {
   "cell_type": "code",
   "execution_count": 73,
   "metadata": {},
   "outputs": [],
   "source": [
    "paper_affils = pd.read_csv('paper_affils.csv')"
   ]
  },
  {
   "cell_type": "code",
   "execution_count": 75,
   "metadata": {},
   "outputs": [],
   "source": [
    "journal_qual = pd.read_excel('journal_qual_consolidated.xlsx', sheet_name='source_id')"
   ]
  },
  {
   "cell_type": "code",
   "execution_count": 79,
   "metadata": {},
   "outputs": [],
   "source": [
    "journal_qual.drop(columns=['asjc_auths', 'percentile_asjc_auths'], inplace=True)"
   ]
  },
  {
   "cell_type": "code",
   "execution_count": 83,
   "metadata": {},
   "outputs": [],
   "source": [
    "papers_journals = pd.concat([paper_affils, journal_qual], axis=1)"
   ]
  },
  {
   "cell_type": "code",
   "execution_count": 93,
   "metadata": {},
   "outputs": [
    {
     "data": {
      "text/html": [
       "<div>\n",
       "<style scoped>\n",
       "    .dataframe tbody tr th:only-of-type {\n",
       "        vertical-align: middle;\n",
       "    }\n",
       "\n",
       "    .dataframe tbody tr th {\n",
       "        vertical-align: top;\n",
       "    }\n",
       "\n",
       "    .dataframe thead th {\n",
       "        text-align: right;\n",
       "    }\n",
       "</style>\n",
       "<table border=\"1\" class=\"dataframe\">\n",
       "  <thead>\n",
       "    <tr style=\"text-align: right;\">\n",
       "      <th></th>\n",
       "      <th>Unnamed: 0</th>\n",
       "      <th>eid</th>\n",
       "      <th>afid</th>\n",
       "      <th>source_id</th>\n",
       "      <th>cites</th>\n",
       "      <th>affil_name</th>\n",
       "      <th>affil_type</th>\n",
       "      <th>start_up</th>\n",
       "      <th>source_id</th>\n",
       "      <th>asjc</th>\n",
       "      <th>CiteScore</th>\n",
       "      <th>SNIP</th>\n",
       "      <th>SCImago JR</th>\n",
       "      <th>percentile_asjc</th>\n",
       "    </tr>\n",
       "  </thead>\n",
       "  <tbody>\n",
       "    <tr>\n",
       "      <th>0</th>\n",
       "      <td>0</td>\n",
       "      <td>2-s2.0-0034739787</td>\n",
       "      <td>60030480</td>\n",
       "      <td>14102</td>\n",
       "      <td>27.0</td>\n",
       "      <td>University of Bath</td>\n",
       "      <td>education</td>\n",
       "      <td>False</td>\n",
       "      <td>14102</td>\n",
       "      <td>1303</td>\n",
       "      <td>5.5</td>\n",
       "      <td>0.953</td>\n",
       "      <td>1.143</td>\n",
       "      <td>76.0</td>\n",
       "    </tr>\n",
       "  </tbody>\n",
       "</table>\n",
       "</div>"
      ],
      "text/plain": [
       "   Unnamed: 0                eid      afid  source_id  cites  \\\n",
       "0           0  2-s2.0-0034739787  60030480      14102   27.0   \n",
       "\n",
       "           affil_name affil_type  start_up  source_id  asjc  CiteScore   SNIP  \\\n",
       "0  University of Bath  education     False      14102  1303        5.5  0.953   \n",
       "\n",
       "   SCImago JR  percentile_asjc  \n",
       "0       1.143             76.0  "
      ]
     },
     "execution_count": 93,
     "metadata": {},
     "output_type": "execute_result"
    }
   ],
   "source": [
    "papers_journals.head(1)"
   ]
  },
  {
   "cell_type": "code",
   "execution_count": 87,
   "metadata": {},
   "outputs": [],
   "source": [
    "start_ups = pd.read_excel('start-up-location-consolidated-1.xlsx', sheet_name='final_affils_startups')"
   ]
  },
  {
   "cell_type": "code",
   "execution_count": 91,
   "metadata": {},
   "outputs": [],
   "source": [
    "start_ups = start_ups[['af_id', 'post_area', 'est_inc_date']].copy()"
   ]
  },
  {
   "cell_type": "code",
   "execution_count": 94,
   "metadata": {},
   "outputs": [],
   "source": [
    "start_ups.rename(columns={'af_id': 'afid'}, inplace=True)"
   ]
  },
  {
   "cell_type": "code",
   "execution_count": 95,
   "metadata": {},
   "outputs": [
    {
     "data": {
      "text/plain": [
       "(1044261, 14)"
      ]
     },
     "execution_count": 95,
     "metadata": {},
     "output_type": "execute_result"
    }
   ],
   "source": [
    "papers_journals.shape"
   ]
  },
  {
   "cell_type": "code",
   "execution_count": 98,
   "metadata": {},
   "outputs": [],
   "source": [
    "papers_journals_startups = pd.merge(papers_journals, start_ups, how='left', on='afid')"
   ]
  },
  {
   "cell_type": "code",
   "execution_count": 100,
   "metadata": {},
   "outputs": [],
   "source": [
    "papers_journals_startups.drop(columns=['Unnamed: 0'], inplace=True)"
   ]
  },
  {
   "cell_type": "code",
   "execution_count": 104,
   "metadata": {},
   "outputs": [],
   "source": [
    "papers_journals_startups.to_csv('final.csv')"
   ]
  },
  {
   "cell_type": "code",
   "execution_count": null,
   "metadata": {},
   "outputs": [],
   "source": []
  },
  {
   "cell_type": "markdown",
   "metadata": {},
   "source": [
    "# Forgot research area"
   ]
  },
  {
   "cell_type": "code",
   "execution_count": 2,
   "metadata": {},
   "outputs": [],
   "source": [
    "final = pd.read_csv('final.csv')"
   ]
  },
  {
   "cell_type": "code",
   "execution_count": 4,
   "metadata": {},
   "outputs": [],
   "source": [
    "final.drop(columns=['source_id.1'], inplace=True)"
   ]
  },
  {
   "cell_type": "code",
   "execution_count": 6,
   "metadata": {},
   "outputs": [
    {
     "data": {
      "text/html": [
       "<div>\n",
       "<style scoped>\n",
       "    .dataframe tbody tr th:only-of-type {\n",
       "        vertical-align: middle;\n",
       "    }\n",
       "\n",
       "    .dataframe tbody tr th {\n",
       "        vertical-align: top;\n",
       "    }\n",
       "\n",
       "    .dataframe thead th {\n",
       "        text-align: right;\n",
       "    }\n",
       "</style>\n",
       "<table border=\"1\" class=\"dataframe\">\n",
       "  <thead>\n",
       "    <tr style=\"text-align: right;\">\n",
       "      <th></th>\n",
       "      <th>Unnamed: 0</th>\n",
       "      <th>eid</th>\n",
       "      <th>afid</th>\n",
       "      <th>source_id</th>\n",
       "      <th>cites</th>\n",
       "      <th>affil_name</th>\n",
       "      <th>affil_type</th>\n",
       "      <th>start_up</th>\n",
       "      <th>asjc</th>\n",
       "      <th>CiteScore</th>\n",
       "      <th>SNIP</th>\n",
       "      <th>SCImago JR</th>\n",
       "      <th>percentile_asjc</th>\n",
       "      <th>post_area</th>\n",
       "      <th>est_inc_date</th>\n",
       "    </tr>\n",
       "  </thead>\n",
       "  <tbody>\n",
       "    <tr>\n",
       "      <th>0</th>\n",
       "      <td>0</td>\n",
       "      <td>2-s2.0-0034739787</td>\n",
       "      <td>60030480</td>\n",
       "      <td>14102</td>\n",
       "      <td>27.0</td>\n",
       "      <td>University of Bath</td>\n",
       "      <td>education</td>\n",
       "      <td>False</td>\n",
       "      <td>1303</td>\n",
       "      <td>5.5</td>\n",
       "      <td>0.953</td>\n",
       "      <td>1.143</td>\n",
       "      <td>76.0</td>\n",
       "      <td>NaN</td>\n",
       "      <td>NaN</td>\n",
       "    </tr>\n",
       "  </tbody>\n",
       "</table>\n",
       "</div>"
      ],
      "text/plain": [
       "   Unnamed: 0                eid      afid  source_id  cites  \\\n",
       "0           0  2-s2.0-0034739787  60030480      14102   27.0   \n",
       "\n",
       "           affil_name affil_type  start_up  asjc  CiteScore   SNIP  \\\n",
       "0  University of Bath  education     False  1303        5.5  0.953   \n",
       "\n",
       "   SCImago JR  percentile_asjc post_area  est_inc_date  \n",
       "0       1.143             76.0       NaN           NaN  "
      ]
     },
     "execution_count": 6,
     "metadata": {},
     "output_type": "execute_result"
    }
   ],
   "source": [
    "final.head(1)"
   ]
  },
  {
   "cell_type": "code",
   "execution_count": 7,
   "metadata": {},
   "outputs": [],
   "source": [
    "research_area = pd.read_csv('research_area.csv')"
   ]
  },
  {
   "cell_type": "code",
   "execution_count": 12,
   "metadata": {},
   "outputs": [],
   "source": [
    "research_area.drop(columns=['asjc', 'asjc_source', 'area_auths', 'asjc_auths'], inplace=True)"
   ]
  },
  {
   "cell_type": "code",
   "execution_count": 13,
   "metadata": {},
   "outputs": [
    {
     "data": {
      "text/html": [
       "<div>\n",
       "<style scoped>\n",
       "    .dataframe tbody tr th:only-of-type {\n",
       "        vertical-align: middle;\n",
       "    }\n",
       "\n",
       "    .dataframe tbody tr th {\n",
       "        vertical-align: top;\n",
       "    }\n",
       "\n",
       "    .dataframe thead th {\n",
       "        text-align: right;\n",
       "    }\n",
       "</style>\n",
       "<table border=\"1\" class=\"dataframe\">\n",
       "  <thead>\n",
       "    <tr style=\"text-align: right;\">\n",
       "      <th></th>\n",
       "      <th>source_id</th>\n",
       "      <th>area</th>\n",
       "    </tr>\n",
       "  </thead>\n",
       "  <tbody>\n",
       "    <tr>\n",
       "      <th>0</th>\n",
       "      <td>10000153301</td>\n",
       "      <td>IMMU</td>\n",
       "    </tr>\n",
       "  </tbody>\n",
       "</table>\n",
       "</div>"
      ],
      "text/plain": [
       "     source_id  area\n",
       "0  10000153301  IMMU"
      ]
     },
     "execution_count": 13,
     "metadata": {},
     "output_type": "execute_result"
    }
   ],
   "source": [
    "research_area.head(1)"
   ]
  },
  {
   "cell_type": "code",
   "execution_count": 14,
   "metadata": {},
   "outputs": [
    {
     "data": {
      "text/plain": [
       "(1044261, 15)"
      ]
     },
     "execution_count": 14,
     "metadata": {},
     "output_type": "execute_result"
    }
   ],
   "source": [
    "final.shape"
   ]
  },
  {
   "cell_type": "code",
   "execution_count": 15,
   "metadata": {},
   "outputs": [],
   "source": [
    "final_2 = pd.merge(final, research_area, how='left', on='source_id')"
   ]
  },
  {
   "cell_type": "code",
   "execution_count": 16,
   "metadata": {},
   "outputs": [
    {
     "data": {
      "text/plain": [
       "(1044261, 16)"
      ]
     },
     "execution_count": 16,
     "metadata": {},
     "output_type": "execute_result"
    }
   ],
   "source": [
    "final_2.shape"
   ]
  },
  {
   "cell_type": "code",
   "execution_count": 20,
   "metadata": {},
   "outputs": [
    {
     "data": {
      "text/plain": [
       "False    1042614\n",
       "True        1647\n",
       "Name: area, dtype: int64"
      ]
     },
     "execution_count": 20,
     "metadata": {},
     "output_type": "execute_result"
    }
   ],
   "source": [
    "final_2.area.isnull().value_counts()"
   ]
  },
  {
   "cell_type": "code",
   "execution_count": 22,
   "metadata": {},
   "outputs": [],
   "source": [
    "final_2.drop(columns=['Unnamed: 0'], inplace=True)"
   ]
  },
  {
   "cell_type": "code",
   "execution_count": 24,
   "metadata": {},
   "outputs": [],
   "source": [
    "final_2.to_csv('final.csv')"
   ]
  },
  {
   "cell_type": "code",
   "execution_count": null,
   "metadata": {},
   "outputs": [],
   "source": []
  },
  {
   "cell_type": "code",
   "execution_count": null,
   "metadata": {},
   "outputs": [],
   "source": []
  },
  {
   "cell_type": "markdown",
   "metadata": {},
   "source": [
    "# Forgot publication date"
   ]
  },
  {
   "cell_type": "code",
   "execution_count": 2,
   "metadata": {},
   "outputs": [],
   "source": [
    "papers = pd.read_csv('papers.csv')"
   ]
  },
  {
   "cell_type": "code",
   "execution_count": 14,
   "metadata": {},
   "outputs": [],
   "source": [
    "dates = papers[['eid', 'afid', 'coverDate']].copy()"
   ]
  },
  {
   "cell_type": "code",
   "execution_count": 8,
   "metadata": {},
   "outputs": [],
   "source": [
    "final = pd.read_csv('final.csv')"
   ]
  },
  {
   "cell_type": "code",
   "execution_count": 15,
   "metadata": {},
   "outputs": [
    {
     "data": {
      "text/plain": [
       "(1044261, 16)"
      ]
     },
     "execution_count": 15,
     "metadata": {},
     "output_type": "execute_result"
    }
   ],
   "source": [
    "final.shape"
   ]
  },
  {
   "cell_type": "code",
   "execution_count": 17,
   "metadata": {},
   "outputs": [],
   "source": [
    "on = ['eid', 'afid']\n",
    "final_2 = pd.merge(final, dates, how='left', left_on=on, right_on=on)"
   ]
  },
  {
   "cell_type": "code",
   "execution_count": 20,
   "metadata": {},
   "outputs": [],
   "source": [
    "final_2.drop(columns=['Unnamed: 0']).to_csv('final.csv')"
   ]
  },
  {
   "cell_type": "code",
   "execution_count": null,
   "metadata": {},
   "outputs": [],
   "source": []
  },
  {
   "cell_type": "code",
   "execution_count": null,
   "metadata": {},
   "outputs": [],
   "source": []
  },
  {
   "cell_type": "code",
   "execution_count": null,
   "metadata": {},
   "outputs": [],
   "source": []
  },
  {
   "cell_type": "markdown",
   "metadata": {},
   "source": [
    "# Format final"
   ]
  },
  {
   "cell_type": "code",
   "execution_count": 2,
   "metadata": {},
   "outputs": [
    {
     "name": "stderr",
     "output_type": "stream",
     "text": [
      "C:\\Users\\aidan\\Anaconda3\\lib\\site-packages\\IPython\\core\\interactiveshell.py:2785: DtypeWarning: Columns (5) have mixed types.Specify dtype option on import or set low_memory=False.\n",
      "  interactivity=interactivity, compiler=compiler, result=result)\n"
     ]
    }
   ],
   "source": [
    "final = pd.read_csv('final_actual_start_up.csv')"
   ]
  },
  {
   "cell_type": "code",
   "execution_count": 6,
   "metadata": {},
   "outputs": [
    {
     "data": {
      "text/html": [
       "<div>\n",
       "<style scoped>\n",
       "    .dataframe tbody tr th:only-of-type {\n",
       "        vertical-align: middle;\n",
       "    }\n",
       "\n",
       "    .dataframe tbody tr th {\n",
       "        vertical-align: top;\n",
       "    }\n",
       "\n",
       "    .dataframe thead th {\n",
       "        text-align: right;\n",
       "    }\n",
       "</style>\n",
       "<table border=\"1\" class=\"dataframe\">\n",
       "  <thead>\n",
       "    <tr style=\"text-align: right;\">\n",
       "      <th></th>\n",
       "      <th>Affil Name</th>\n",
       "      <th>Affil Type</th>\n",
       "      <th>Area</th>\n",
       "      <th>Eid</th>\n",
       "      <th>inc_year</th>\n",
       "      <th>Post Area</th>\n",
       "      <th>Source Id</th>\n",
       "      <th>start-up-candidate</th>\n",
       "      <th>Afid</th>\n",
       "      <th>Asjc</th>\n",
       "      <th>Cite Score</th>\n",
       "      <th>Cites</th>\n",
       "      <th>F1</th>\n",
       "      <th>Percentile Asjc</th>\n",
       "      <th>pub_year</th>\n",
       "      <th>SCImago JR</th>\n",
       "      <th>Snip</th>\n",
       "      <th>start-up</th>\n",
       "    </tr>\n",
       "  </thead>\n",
       "  <tbody>\n",
       "    <tr>\n",
       "      <th>0</th>\n",
       "      <td>University of Southampton</td>\n",
       "      <td>education</td>\n",
       "      <td>ECON</td>\n",
       "      <td>2-s2.0-0034123014</td>\n",
       "      <td>NaN</td>\n",
       "      <td>NaN</td>\n",
       "      <td>23352</td>\n",
       "      <td>False</td>\n",
       "      <td>60025225</td>\n",
       "      <td>2002</td>\n",
       "      <td>5.0</td>\n",
       "      <td>21</td>\n",
       "      <td>65536</td>\n",
       "      <td>93.0</td>\n",
       "      <td>2000</td>\n",
       "      <td>3.615</td>\n",
       "      <td>2.512</td>\n",
       "      <td>0</td>\n",
       "    </tr>\n",
       "  </tbody>\n",
       "</table>\n",
       "</div>"
      ],
      "text/plain": [
       "                  Affil Name Affil Type  Area                Eid  inc_year  \\\n",
       "0  University of Southampton  education  ECON  2-s2.0-0034123014       NaN   \n",
       "\n",
       "  Post Area  Source Id  start-up-candidate      Afid  Asjc  Cite Score  Cites  \\\n",
       "0       NaN      23352               False  60025225  2002         5.0     21   \n",
       "\n",
       "      F1  Percentile Asjc  pub_year  SCImago JR   Snip  start-up  \n",
       "0  65536             93.0      2000       3.615  2.512         0  "
      ]
     },
     "execution_count": 6,
     "metadata": {},
     "output_type": "execute_result"
    }
   ],
   "source": [
    "final.head(1)"
   ]
  },
  {
   "cell_type": "code",
   "execution_count": 8,
   "metadata": {},
   "outputs": [],
   "source": [
    "o = ['Eid', 'pub_year', 'Afid', 'Affil Name', 'Post Area', 'inc_year', 'Affil Type', \n",
    "     'start-up', 'Source Id', 'Area', 'Cites', 'Cite Score', 'Percentile Asjc',\n",
    "     'SCImago JR', 'Snip']\n",
    "final_1 = final[o].copy()"
   ]
  },
  {
   "cell_type": "code",
   "execution_count": 10,
   "metadata": {},
   "outputs": [],
   "source": [
    "rename = {'Eid': 'eid', 'Afid': 'afid', 'Affil Name': 'name',\n",
    "          'Post Area': 'area_code', 'Affil Type': 'type',\n",
    "          'Source Id': 'journal_id', 'Area': 'res_area',\n",
    "          'Cites': 'cites_10_yrs', 'Cite Score': 'cs_2011',\n",
    "          'Percentile Asjc': 'res_area_perc', 'SCImago JR': 'sci_jr',\n",
    "          'Snip': 'snip'}\n",
    "final_1.rename(columns=rename, inplace=True)"
   ]
  },
  {
   "cell_type": "code",
   "execution_count": 15,
   "metadata": {},
   "outputs": [],
   "source": [
    "final_1.to_csv('final_tidy.csv')"
   ]
  },
  {
   "cell_type": "code",
   "execution_count": 16,
   "metadata": {},
   "outputs": [
    {
     "data": {
      "text/html": [
       "<div>\n",
       "<style scoped>\n",
       "    .dataframe tbody tr th:only-of-type {\n",
       "        vertical-align: middle;\n",
       "    }\n",
       "\n",
       "    .dataframe tbody tr th {\n",
       "        vertical-align: top;\n",
       "    }\n",
       "\n",
       "    .dataframe thead th {\n",
       "        text-align: right;\n",
       "    }\n",
       "</style>\n",
       "<table border=\"1\" class=\"dataframe\">\n",
       "  <thead>\n",
       "    <tr style=\"text-align: right;\">\n",
       "      <th></th>\n",
       "      <th>eid</th>\n",
       "      <th>pub_year</th>\n",
       "      <th>afid</th>\n",
       "      <th>name</th>\n",
       "      <th>area_code</th>\n",
       "      <th>inc_year</th>\n",
       "      <th>type</th>\n",
       "      <th>start-up</th>\n",
       "      <th>journal_id</th>\n",
       "      <th>res_area</th>\n",
       "      <th>cites_10_yrs</th>\n",
       "      <th>cs_2011</th>\n",
       "      <th>res_area_perc</th>\n",
       "      <th>sci_jr</th>\n",
       "      <th>snip</th>\n",
       "    </tr>\n",
       "  </thead>\n",
       "  <tbody>\n",
       "    <tr>\n",
       "      <th>0</th>\n",
       "      <td>2-s2.0-0034123014</td>\n",
       "      <td>2000</td>\n",
       "      <td>60025225</td>\n",
       "      <td>University of Southampton</td>\n",
       "      <td>NaN</td>\n",
       "      <td>NaN</td>\n",
       "      <td>education</td>\n",
       "      <td>0</td>\n",
       "      <td>23352</td>\n",
       "      <td>ECON</td>\n",
       "      <td>21</td>\n",
       "      <td>5.0</td>\n",
       "      <td>93.0</td>\n",
       "      <td>3.615</td>\n",
       "      <td>2.512</td>\n",
       "    </tr>\n",
       "    <tr>\n",
       "      <th>1</th>\n",
       "      <td>2-s2.0-0034120005</td>\n",
       "      <td>2000</td>\n",
       "      <td>60019665</td>\n",
       "      <td>Hannah Research Institute</td>\n",
       "      <td>NaN</td>\n",
       "      <td>NaN</td>\n",
       "      <td>resi</td>\n",
       "      <td>0</td>\n",
       "      <td>33928</td>\n",
       "      <td>AGRI</td>\n",
       "      <td>14</td>\n",
       "      <td>2.5</td>\n",
       "      <td>75.0</td>\n",
       "      <td>0.762</td>\n",
       "      <td>1.010</td>\n",
       "    </tr>\n",
       "    <tr>\n",
       "      <th>2</th>\n",
       "      <td>2-s2.0-0034110440</td>\n",
       "      <td>2000</td>\n",
       "      <td>60116446</td>\n",
       "      <td>University of Liverpool Management School</td>\n",
       "      <td>NaN</td>\n",
       "      <td>NaN</td>\n",
       "      <td>education</td>\n",
       "      <td>0</td>\n",
       "      <td>15807</td>\n",
       "      <td>SOCI</td>\n",
       "      <td>10</td>\n",
       "      <td>1.6</td>\n",
       "      <td>73.0</td>\n",
       "      <td>0.977</td>\n",
       "      <td>1.167</td>\n",
       "    </tr>\n",
       "    <tr>\n",
       "      <th>3</th>\n",
       "      <td>2-s2.0-0034105766</td>\n",
       "      <td>2000</td>\n",
       "      <td>60028485</td>\n",
       "      <td>University Hospitals of Leicester NHS Trust</td>\n",
       "      <td>NaN</td>\n",
       "      <td>NaN</td>\n",
       "      <td>healthcare</td>\n",
       "      <td>0</td>\n",
       "      <td>20994</td>\n",
       "      <td>MEDI</td>\n",
       "      <td>2</td>\n",
       "      <td>NaN</td>\n",
       "      <td>NaN</td>\n",
       "      <td>NaN</td>\n",
       "      <td>NaN</td>\n",
       "    </tr>\n",
       "    <tr>\n",
       "      <th>4</th>\n",
       "      <td>2-s2.0-0034101663</td>\n",
       "      <td>2000</td>\n",
       "      <td>60020849</td>\n",
       "      <td>Whipps Cross Hospital</td>\n",
       "      <td>NaN</td>\n",
       "      <td>NaN</td>\n",
       "      <td>healthcare</td>\n",
       "      <td>0</td>\n",
       "      <td>16616</td>\n",
       "      <td>MEDI</td>\n",
       "      <td>2</td>\n",
       "      <td>3.5</td>\n",
       "      <td>64.0</td>\n",
       "      <td>0.927</td>\n",
       "      <td>1.374</td>\n",
       "    </tr>\n",
       "  </tbody>\n",
       "</table>\n",
       "</div>"
      ],
      "text/plain": [
       "                 eid  pub_year      afid  \\\n",
       "0  2-s2.0-0034123014      2000  60025225   \n",
       "1  2-s2.0-0034120005      2000  60019665   \n",
       "2  2-s2.0-0034110440      2000  60116446   \n",
       "3  2-s2.0-0034105766      2000  60028485   \n",
       "4  2-s2.0-0034101663      2000  60020849   \n",
       "\n",
       "                                          name area_code  inc_year  \\\n",
       "0                    University of Southampton       NaN       NaN   \n",
       "1                    Hannah Research Institute       NaN       NaN   \n",
       "2    University of Liverpool Management School       NaN       NaN   \n",
       "3  University Hospitals of Leicester NHS Trust       NaN       NaN   \n",
       "4                        Whipps Cross Hospital       NaN       NaN   \n",
       "\n",
       "         type  start-up  journal_id res_area  cites_10_yrs  cs_2011  \\\n",
       "0   education         0       23352     ECON            21      5.0   \n",
       "1        resi         0       33928     AGRI            14      2.5   \n",
       "2   education         0       15807     SOCI            10      1.6   \n",
       "3  healthcare         0       20994     MEDI             2      NaN   \n",
       "4  healthcare         0       16616     MEDI             2      3.5   \n",
       "\n",
       "   res_area_perc  sci_jr   snip  \n",
       "0           93.0   3.615  2.512  \n",
       "1           75.0   0.762  1.010  \n",
       "2           73.0   0.977  1.167  \n",
       "3            NaN     NaN    NaN  \n",
       "4           64.0   0.927  1.374  "
      ]
     },
     "execution_count": 16,
     "metadata": {},
     "output_type": "execute_result"
    }
   ],
   "source": [
    "final_1.head()"
   ]
  },
  {
   "cell_type": "code",
   "execution_count": null,
   "metadata": {},
   "outputs": [],
   "source": []
  },
  {
   "cell_type": "code",
   "execution_count": null,
   "metadata": {},
   "outputs": [],
   "source": []
  },
  {
   "cell_type": "markdown",
   "metadata": {},
   "source": [
    "# Who are start-ups publishing computer science research?"
   ]
  },
  {
   "cell_type": "code",
   "execution_count": 2,
   "metadata": {},
   "outputs": [
    {
     "name": "stderr",
     "output_type": "stream",
     "text": [
      "C:\\Users\\aidan\\Anaconda3\\lib\\site-packages\\IPython\\core\\interactiveshell.py:2785: DtypeWarning: Columns (5) have mixed types.Specify dtype option on import or set low_memory=False.\n",
      "  interactivity=interactivity, compiler=compiler, result=result)\n"
     ]
    }
   ],
   "source": [
    "df = pd.read_csv('final_tidy.csv')\n",
    "affils = pd.read_csv('affils_w_startup.csv')"
   ]
  },
  {
   "cell_type": "code",
   "execution_count": 15,
   "metadata": {},
   "outputs": [],
   "source": [
    "comp = df[(df['start-up'] == 1) & (df['res_area'] == 'COMP')].groupby(by='afid').count().sort_values(by='eid', ascending=False)"
   ]
  },
  {
   "cell_type": "code",
   "execution_count": 27,
   "metadata": {},
   "outputs": [
    {
     "data": {
      "text/html": [
       "<div>\n",
       "<style scoped>\n",
       "    .dataframe tbody tr th:only-of-type {\n",
       "        vertical-align: middle;\n",
       "    }\n",
       "\n",
       "    .dataframe tbody tr th {\n",
       "        vertical-align: top;\n",
       "    }\n",
       "\n",
       "    .dataframe thead th {\n",
       "        text-align: right;\n",
       "    }\n",
       "</style>\n",
       "<table border=\"1\" class=\"dataframe\">\n",
       "  <thead>\n",
       "    <tr style=\"text-align: right;\">\n",
       "      <th></th>\n",
       "      <th>Unnamed: 0</th>\n",
       "      <th>eid</th>\n",
       "      <th>pub_year</th>\n",
       "      <th>name</th>\n",
       "      <th>area_code</th>\n",
       "      <th>inc_year</th>\n",
       "      <th>type</th>\n",
       "      <th>start-up</th>\n",
       "      <th>journal_id</th>\n",
       "      <th>res_area</th>\n",
       "      <th>cites_10_yrs</th>\n",
       "      <th>cs_2011</th>\n",
       "      <th>res_area_perc</th>\n",
       "      <th>sci_jr</th>\n",
       "      <th>snip</th>\n",
       "    </tr>\n",
       "    <tr>\n",
       "      <th>afid</th>\n",
       "      <th></th>\n",
       "      <th></th>\n",
       "      <th></th>\n",
       "      <th></th>\n",
       "      <th></th>\n",
       "      <th></th>\n",
       "      <th></th>\n",
       "      <th></th>\n",
       "      <th></th>\n",
       "      <th></th>\n",
       "      <th></th>\n",
       "      <th></th>\n",
       "      <th></th>\n",
       "      <th></th>\n",
       "      <th></th>\n",
       "    </tr>\n",
       "  </thead>\n",
       "  <tbody>\n",
       "    <tr>\n",
       "      <th>60098463</th>\n",
       "      <td>168</td>\n",
       "      <td>168</td>\n",
       "      <td>168</td>\n",
       "      <td>168</td>\n",
       "      <td>168</td>\n",
       "      <td>168</td>\n",
       "      <td>168</td>\n",
       "      <td>168</td>\n",
       "      <td>168</td>\n",
       "      <td>168</td>\n",
       "      <td>168</td>\n",
       "      <td>153</td>\n",
       "      <td>153</td>\n",
       "      <td>153</td>\n",
       "      <td>153</td>\n",
       "    </tr>\n",
       "    <tr>\n",
       "      <th>60100029</th>\n",
       "      <td>11</td>\n",
       "      <td>11</td>\n",
       "      <td>11</td>\n",
       "      <td>11</td>\n",
       "      <td>11</td>\n",
       "      <td>11</td>\n",
       "      <td>11</td>\n",
       "      <td>11</td>\n",
       "      <td>11</td>\n",
       "      <td>11</td>\n",
       "      <td>11</td>\n",
       "      <td>9</td>\n",
       "      <td>8</td>\n",
       "      <td>9</td>\n",
       "      <td>9</td>\n",
       "    </tr>\n",
       "    <tr>\n",
       "      <th>100322617</th>\n",
       "      <td>10</td>\n",
       "      <td>10</td>\n",
       "      <td>10</td>\n",
       "      <td>10</td>\n",
       "      <td>10</td>\n",
       "      <td>10</td>\n",
       "      <td>10</td>\n",
       "      <td>10</td>\n",
       "      <td>10</td>\n",
       "      <td>10</td>\n",
       "      <td>10</td>\n",
       "      <td>10</td>\n",
       "      <td>10</td>\n",
       "      <td>10</td>\n",
       "      <td>10</td>\n",
       "    </tr>\n",
       "    <tr>\n",
       "      <th>100325034</th>\n",
       "      <td>8</td>\n",
       "      <td>8</td>\n",
       "      <td>8</td>\n",
       "      <td>8</td>\n",
       "      <td>8</td>\n",
       "      <td>8</td>\n",
       "      <td>8</td>\n",
       "      <td>8</td>\n",
       "      <td>8</td>\n",
       "      <td>8</td>\n",
       "      <td>8</td>\n",
       "      <td>8</td>\n",
       "      <td>8</td>\n",
       "      <td>8</td>\n",
       "      <td>8</td>\n",
       "    </tr>\n",
       "    <tr>\n",
       "      <th>100491623</th>\n",
       "      <td>8</td>\n",
       "      <td>8</td>\n",
       "      <td>8</td>\n",
       "      <td>8</td>\n",
       "      <td>8</td>\n",
       "      <td>8</td>\n",
       "      <td>8</td>\n",
       "      <td>8</td>\n",
       "      <td>8</td>\n",
       "      <td>8</td>\n",
       "      <td>8</td>\n",
       "      <td>8</td>\n",
       "      <td>8</td>\n",
       "      <td>8</td>\n",
       "      <td>8</td>\n",
       "    </tr>\n",
       "    <tr>\n",
       "      <th>...</th>\n",
       "      <td>...</td>\n",
       "      <td>...</td>\n",
       "      <td>...</td>\n",
       "      <td>...</td>\n",
       "      <td>...</td>\n",
       "      <td>...</td>\n",
       "      <td>...</td>\n",
       "      <td>...</td>\n",
       "      <td>...</td>\n",
       "      <td>...</td>\n",
       "      <td>...</td>\n",
       "      <td>...</td>\n",
       "      <td>...</td>\n",
       "      <td>...</td>\n",
       "      <td>...</td>\n",
       "    </tr>\n",
       "    <tr>\n",
       "      <th>101638102</th>\n",
       "      <td>1</td>\n",
       "      <td>1</td>\n",
       "      <td>1</td>\n",
       "      <td>1</td>\n",
       "      <td>1</td>\n",
       "      <td>1</td>\n",
       "      <td>1</td>\n",
       "      <td>1</td>\n",
       "      <td>1</td>\n",
       "      <td>1</td>\n",
       "      <td>1</td>\n",
       "      <td>0</td>\n",
       "      <td>0</td>\n",
       "      <td>0</td>\n",
       "      <td>0</td>\n",
       "    </tr>\n",
       "    <tr>\n",
       "      <th>101640424</th>\n",
       "      <td>1</td>\n",
       "      <td>1</td>\n",
       "      <td>1</td>\n",
       "      <td>1</td>\n",
       "      <td>1</td>\n",
       "      <td>1</td>\n",
       "      <td>1</td>\n",
       "      <td>1</td>\n",
       "      <td>1</td>\n",
       "      <td>1</td>\n",
       "      <td>1</td>\n",
       "      <td>1</td>\n",
       "      <td>1</td>\n",
       "      <td>1</td>\n",
       "      <td>1</td>\n",
       "    </tr>\n",
       "    <tr>\n",
       "      <th>101642236</th>\n",
       "      <td>1</td>\n",
       "      <td>1</td>\n",
       "      <td>1</td>\n",
       "      <td>1</td>\n",
       "      <td>1</td>\n",
       "      <td>1</td>\n",
       "      <td>1</td>\n",
       "      <td>1</td>\n",
       "      <td>1</td>\n",
       "      <td>1</td>\n",
       "      <td>1</td>\n",
       "      <td>1</td>\n",
       "      <td>1</td>\n",
       "      <td>1</td>\n",
       "      <td>1</td>\n",
       "    </tr>\n",
       "    <tr>\n",
       "      <th>101651246</th>\n",
       "      <td>1</td>\n",
       "      <td>1</td>\n",
       "      <td>1</td>\n",
       "      <td>1</td>\n",
       "      <td>1</td>\n",
       "      <td>1</td>\n",
       "      <td>1</td>\n",
       "      <td>1</td>\n",
       "      <td>1</td>\n",
       "      <td>1</td>\n",
       "      <td>1</td>\n",
       "      <td>1</td>\n",
       "      <td>1</td>\n",
       "      <td>1</td>\n",
       "      <td>1</td>\n",
       "    </tr>\n",
       "    <tr>\n",
       "      <th>124575794</th>\n",
       "      <td>1</td>\n",
       "      <td>1</td>\n",
       "      <td>1</td>\n",
       "      <td>1</td>\n",
       "      <td>1</td>\n",
       "      <td>1</td>\n",
       "      <td>1</td>\n",
       "      <td>1</td>\n",
       "      <td>1</td>\n",
       "      <td>1</td>\n",
       "      <td>1</td>\n",
       "      <td>1</td>\n",
       "      <td>1</td>\n",
       "      <td>1</td>\n",
       "      <td>1</td>\n",
       "    </tr>\n",
       "  </tbody>\n",
       "</table>\n",
       "<p>280 rows × 15 columns</p>\n",
       "</div>"
      ],
      "text/plain": [
       "           Unnamed: 0  eid  pub_year  name  area_code  inc_year  type  \\\n",
       "afid                                                                    \n",
       "60098463          168  168       168   168        168       168   168   \n",
       "60100029           11   11        11    11         11        11    11   \n",
       "100322617          10   10        10    10         10        10    10   \n",
       "100325034           8    8         8     8          8         8     8   \n",
       "100491623           8    8         8     8          8         8     8   \n",
       "...               ...  ...       ...   ...        ...       ...   ...   \n",
       "101638102           1    1         1     1          1         1     1   \n",
       "101640424           1    1         1     1          1         1     1   \n",
       "101642236           1    1         1     1          1         1     1   \n",
       "101651246           1    1         1     1          1         1     1   \n",
       "124575794           1    1         1     1          1         1     1   \n",
       "\n",
       "           start-up  journal_id  res_area  cites_10_yrs  cs_2011  \\\n",
       "afid                                                               \n",
       "60098463        168         168       168           168      153   \n",
       "60100029         11          11        11            11        9   \n",
       "100322617        10          10        10            10       10   \n",
       "100325034         8           8         8             8        8   \n",
       "100491623         8           8         8             8        8   \n",
       "...             ...         ...       ...           ...      ...   \n",
       "101638102         1           1         1             1        0   \n",
       "101640424         1           1         1             1        1   \n",
       "101642236         1           1         1             1        1   \n",
       "101651246         1           1         1             1        1   \n",
       "124575794         1           1         1             1        1   \n",
       "\n",
       "           res_area_perc  sci_jr  snip  \n",
       "afid                                    \n",
       "60098463             153     153   153  \n",
       "60100029               8       9     9  \n",
       "100322617             10      10    10  \n",
       "100325034              8       8     8  \n",
       "100491623              8       8     8  \n",
       "...                  ...     ...   ...  \n",
       "101638102              0       0     0  \n",
       "101640424              1       1     1  \n",
       "101642236              1       1     1  \n",
       "101651246              1       1     1  \n",
       "124575794              1       1     1  \n",
       "\n",
       "[280 rows x 15 columns]"
      ]
     },
     "execution_count": 27,
     "metadata": {},
     "output_type": "execute_result"
    }
   ],
   "source": [
    "comp"
   ]
  },
  {
   "cell_type": "code",
   "execution_count": 29,
   "metadata": {},
   "outputs": [
    {
     "data": {
      "text/html": [
       "<div>\n",
       "<style scoped>\n",
       "    .dataframe tbody tr th:only-of-type {\n",
       "        vertical-align: middle;\n",
       "    }\n",
       "\n",
       "    .dataframe tbody tr th {\n",
       "        vertical-align: top;\n",
       "    }\n",
       "\n",
       "    .dataframe thead th {\n",
       "        text-align: right;\n",
       "    }\n",
       "</style>\n",
       "<table border=\"1\" class=\"dataframe\">\n",
       "  <thead>\n",
       "    <tr style=\"text-align: right;\">\n",
       "      <th></th>\n",
       "      <th>Unnamed: 0</th>\n",
       "      <th>eid</th>\n",
       "      <th>pub_year</th>\n",
       "      <th>afid</th>\n",
       "      <th>name</th>\n",
       "      <th>area_code</th>\n",
       "      <th>inc_year</th>\n",
       "      <th>type</th>\n",
       "      <th>start-up</th>\n",
       "      <th>journal_id</th>\n",
       "      <th>res_area</th>\n",
       "      <th>cites_10_yrs</th>\n",
       "      <th>cs_2011</th>\n",
       "      <th>res_area_perc</th>\n",
       "      <th>sci_jr</th>\n",
       "      <th>snip</th>\n",
       "    </tr>\n",
       "  </thead>\n",
       "  <tbody>\n",
       "    <tr>\n",
       "      <th>447722</th>\n",
       "      <td>447722</td>\n",
       "      <td>2-s2.0-0037357217</td>\n",
       "      <td>2003</td>\n",
       "      <td>60100029</td>\n",
       "      <td>Numerical Geometry Ltd.</td>\n",
       "      <td>CB</td>\n",
       "      <td>1994.0</td>\n",
       "      <td>company</td>\n",
       "      <td>1</td>\n",
       "      <td>25023</td>\n",
       "      <td>COMP</td>\n",
       "      <td>23</td>\n",
       "      <td>4.9</td>\n",
       "      <td>NaN</td>\n",
       "      <td>0.784</td>\n",
       "      <td>1.865</td>\n",
       "    </tr>\n",
       "    <tr>\n",
       "      <th>447724</th>\n",
       "      <td>447724</td>\n",
       "      <td>2-s2.0-35248821334</td>\n",
       "      <td>2003</td>\n",
       "      <td>60100029</td>\n",
       "      <td>Numerical Geometry Ltd.</td>\n",
       "      <td>CB</td>\n",
       "      <td>1994.0</td>\n",
       "      <td>company</td>\n",
       "      <td>1</td>\n",
       "      <td>25674</td>\n",
       "      <td>COMP</td>\n",
       "      <td>4</td>\n",
       "      <td>1.3</td>\n",
       "      <td>55.0</td>\n",
       "      <td>0.338</td>\n",
       "      <td>0.778</td>\n",
       "    </tr>\n",
       "    <tr>\n",
       "      <th>447727</th>\n",
       "      <td>447727</td>\n",
       "      <td>2-s2.0-0346266314</td>\n",
       "      <td>2004</td>\n",
       "      <td>60100029</td>\n",
       "      <td>Numerical Geometry Ltd.</td>\n",
       "      <td>CB</td>\n",
       "      <td>1994.0</td>\n",
       "      <td>company</td>\n",
       "      <td>1</td>\n",
       "      <td>24998</td>\n",
       "      <td>COMP</td>\n",
       "      <td>12</td>\n",
       "      <td>2.5</td>\n",
       "      <td>70.0</td>\n",
       "      <td>0.590</td>\n",
       "      <td>1.406</td>\n",
       "    </tr>\n",
       "    <tr>\n",
       "      <th>447728</th>\n",
       "      <td>447728</td>\n",
       "      <td>2-s2.0-2942676751</td>\n",
       "      <td>2004</td>\n",
       "      <td>60100029</td>\n",
       "      <td>Numerical Geometry Ltd.</td>\n",
       "      <td>CB</td>\n",
       "      <td>1994.0</td>\n",
       "      <td>company</td>\n",
       "      <td>1</td>\n",
       "      <td>24998</td>\n",
       "      <td>COMP</td>\n",
       "      <td>4</td>\n",
       "      <td>2.5</td>\n",
       "      <td>70.0</td>\n",
       "      <td>0.590</td>\n",
       "      <td>1.406</td>\n",
       "    </tr>\n",
       "    <tr>\n",
       "      <th>447730</th>\n",
       "      <td>447730</td>\n",
       "      <td>2-s2.0-33749441021</td>\n",
       "      <td>2004</td>\n",
       "      <td>60100029</td>\n",
       "      <td>Numerical Geometry Ltd.</td>\n",
       "      <td>CB</td>\n",
       "      <td>1994.0</td>\n",
       "      <td>company</td>\n",
       "      <td>1</td>\n",
       "      <td>24972</td>\n",
       "      <td>COMP</td>\n",
       "      <td>11</td>\n",
       "      <td>9.5</td>\n",
       "      <td>99.0</td>\n",
       "      <td>1.414</td>\n",
       "      <td>3.603</td>\n",
       "    </tr>\n",
       "    <tr>\n",
       "      <th>507338</th>\n",
       "      <td>507338</td>\n",
       "      <td>2-s2.0-13844296429</td>\n",
       "      <td>2005</td>\n",
       "      <td>60100029</td>\n",
       "      <td>Numerical Geometry Ltd.</td>\n",
       "      <td>CB</td>\n",
       "      <td>1994.0</td>\n",
       "      <td>company</td>\n",
       "      <td>0</td>\n",
       "      <td>28041</td>\n",
       "      <td>MATH</td>\n",
       "      <td>2</td>\n",
       "      <td>2.8</td>\n",
       "      <td>80.0</td>\n",
       "      <td>1.006</td>\n",
       "      <td>1.390</td>\n",
       "    </tr>\n",
       "    <tr>\n",
       "      <th>534050</th>\n",
       "      <td>534050</td>\n",
       "      <td>2-s2.0-0036976663</td>\n",
       "      <td>2002</td>\n",
       "      <td>60100029</td>\n",
       "      <td>Numerical Geometry Ltd.</td>\n",
       "      <td>CB</td>\n",
       "      <td>1994.0</td>\n",
       "      <td>company</td>\n",
       "      <td>1</td>\n",
       "      <td>25572</td>\n",
       "      <td>COMP</td>\n",
       "      <td>4</td>\n",
       "      <td>NaN</td>\n",
       "      <td>NaN</td>\n",
       "      <td>NaN</td>\n",
       "      <td>NaN</td>\n",
       "    </tr>\n",
       "    <tr>\n",
       "      <th>534051</th>\n",
       "      <td>534051</td>\n",
       "      <td>2-s2.0-0036627460</td>\n",
       "      <td>2002</td>\n",
       "      <td>60100029</td>\n",
       "      <td>Numerical Geometry Ltd.</td>\n",
       "      <td>CB</td>\n",
       "      <td>1994.0</td>\n",
       "      <td>company</td>\n",
       "      <td>1</td>\n",
       "      <td>25572</td>\n",
       "      <td>COMP</td>\n",
       "      <td>10</td>\n",
       "      <td>NaN</td>\n",
       "      <td>NaN</td>\n",
       "      <td>NaN</td>\n",
       "      <td>NaN</td>\n",
       "    </tr>\n",
       "    <tr>\n",
       "      <th>534052</th>\n",
       "      <td>534052</td>\n",
       "      <td>2-s2.0-0036609139</td>\n",
       "      <td>2002</td>\n",
       "      <td>60100029</td>\n",
       "      <td>Numerical Geometry Ltd.</td>\n",
       "      <td>CB</td>\n",
       "      <td>1994.0</td>\n",
       "      <td>company</td>\n",
       "      <td>1</td>\n",
       "      <td>26146</td>\n",
       "      <td>COMP</td>\n",
       "      <td>16</td>\n",
       "      <td>2.5</td>\n",
       "      <td>53.0</td>\n",
       "      <td>0.310</td>\n",
       "      <td>1.103</td>\n",
       "    </tr>\n",
       "    <tr>\n",
       "      <th>534053</th>\n",
       "      <td>534053</td>\n",
       "      <td>2-s2.0-0036685219</td>\n",
       "      <td>2002</td>\n",
       "      <td>60100029</td>\n",
       "      <td>Numerical Geometry Ltd.</td>\n",
       "      <td>CB</td>\n",
       "      <td>1994.0</td>\n",
       "      <td>company</td>\n",
       "      <td>1</td>\n",
       "      <td>26146</td>\n",
       "      <td>COMP</td>\n",
       "      <td>17</td>\n",
       "      <td>2.5</td>\n",
       "      <td>53.0</td>\n",
       "      <td>0.310</td>\n",
       "      <td>1.103</td>\n",
       "    </tr>\n",
       "    <tr>\n",
       "      <th>534054</th>\n",
       "      <td>534054</td>\n",
       "      <td>2-s2.0-0036143912</td>\n",
       "      <td>2002</td>\n",
       "      <td>60100029</td>\n",
       "      <td>Numerical Geometry Ltd.</td>\n",
       "      <td>CB</td>\n",
       "      <td>1994.0</td>\n",
       "      <td>company</td>\n",
       "      <td>1</td>\n",
       "      <td>24998</td>\n",
       "      <td>COMP</td>\n",
       "      <td>77</td>\n",
       "      <td>2.5</td>\n",
       "      <td>70.0</td>\n",
       "      <td>0.590</td>\n",
       "      <td>1.406</td>\n",
       "    </tr>\n",
       "    <tr>\n",
       "      <th>534055</th>\n",
       "      <td>534055</td>\n",
       "      <td>2-s2.0-0036530207</td>\n",
       "      <td>2002</td>\n",
       "      <td>60100029</td>\n",
       "      <td>Numerical Geometry Ltd.</td>\n",
       "      <td>CB</td>\n",
       "      <td>1994.0</td>\n",
       "      <td>company</td>\n",
       "      <td>1</td>\n",
       "      <td>24998</td>\n",
       "      <td>COMP</td>\n",
       "      <td>1</td>\n",
       "      <td>2.5</td>\n",
       "      <td>70.0</td>\n",
       "      <td>0.590</td>\n",
       "      <td>1.406</td>\n",
       "    </tr>\n",
       "    <tr>\n",
       "      <th>534419</th>\n",
       "      <td>534419</td>\n",
       "      <td>2-s2.0-0037775762</td>\n",
       "      <td>2003</td>\n",
       "      <td>60100029</td>\n",
       "      <td>Numerical Geometry Ltd.</td>\n",
       "      <td>CB</td>\n",
       "      <td>1994.0</td>\n",
       "      <td>company</td>\n",
       "      <td>1</td>\n",
       "      <td>18145</td>\n",
       "      <td>ENGI</td>\n",
       "      <td>8</td>\n",
       "      <td>3.4</td>\n",
       "      <td>90.0</td>\n",
       "      <td>0.702</td>\n",
       "      <td>2.458</td>\n",
       "    </tr>\n",
       "    <tr>\n",
       "      <th>839569</th>\n",
       "      <td>839569</td>\n",
       "      <td>2-s2.0-36649008948</td>\n",
       "      <td>2008</td>\n",
       "      <td>60100029</td>\n",
       "      <td>Numerical Geometry Ltd.</td>\n",
       "      <td>CB</td>\n",
       "      <td>1994.0</td>\n",
       "      <td>company</td>\n",
       "      <td>0</td>\n",
       "      <td>24998</td>\n",
       "      <td>COMP</td>\n",
       "      <td>43</td>\n",
       "      <td>2.5</td>\n",
       "      <td>70.0</td>\n",
       "      <td>0.590</td>\n",
       "      <td>1.406</td>\n",
       "    </tr>\n",
       "    <tr>\n",
       "      <th>985591</th>\n",
       "      <td>985591</td>\n",
       "      <td>2-s2.0-63349087499</td>\n",
       "      <td>2009</td>\n",
       "      <td>60100029</td>\n",
       "      <td>Numerical Geometry Ltd.</td>\n",
       "      <td>CB</td>\n",
       "      <td>1994.0</td>\n",
       "      <td>company</td>\n",
       "      <td>0</td>\n",
       "      <td>24998</td>\n",
       "      <td>COMP</td>\n",
       "      <td>9</td>\n",
       "      <td>2.5</td>\n",
       "      <td>70.0</td>\n",
       "      <td>0.590</td>\n",
       "      <td>1.406</td>\n",
       "    </tr>\n",
       "    <tr>\n",
       "      <th>1019534</th>\n",
       "      <td>1019534</td>\n",
       "      <td>2-s2.0-33845387158</td>\n",
       "      <td>2006</td>\n",
       "      <td>60100029</td>\n",
       "      <td>Numerical Geometry Ltd.</td>\n",
       "      <td>CB</td>\n",
       "      <td>1994.0</td>\n",
       "      <td>company</td>\n",
       "      <td>0</td>\n",
       "      <td>25023</td>\n",
       "      <td>COMP</td>\n",
       "      <td>19</td>\n",
       "      <td>4.9</td>\n",
       "      <td>NaN</td>\n",
       "      <td>0.784</td>\n",
       "      <td>1.865</td>\n",
       "    </tr>\n",
       "    <tr>\n",
       "      <th>1035415</th>\n",
       "      <td>1035415</td>\n",
       "      <td>2-s2.0-70349193186</td>\n",
       "      <td>2009</td>\n",
       "      <td>60100029</td>\n",
       "      <td>Numerical Geometry Ltd.</td>\n",
       "      <td>CB</td>\n",
       "      <td>1994.0</td>\n",
       "      <td>company</td>\n",
       "      <td>0</td>\n",
       "      <td>25023</td>\n",
       "      <td>COMP</td>\n",
       "      <td>24</td>\n",
       "      <td>4.9</td>\n",
       "      <td>NaN</td>\n",
       "      <td>0.784</td>\n",
       "      <td>1.865</td>\n",
       "    </tr>\n",
       "    <tr>\n",
       "      <th>1037879</th>\n",
       "      <td>1037879</td>\n",
       "      <td>2-s2.0-56649112814</td>\n",
       "      <td>2009</td>\n",
       "      <td>60100029</td>\n",
       "      <td>Numerical Geometry Ltd.</td>\n",
       "      <td>CB</td>\n",
       "      <td>1994.0</td>\n",
       "      <td>company</td>\n",
       "      <td>0</td>\n",
       "      <td>24998</td>\n",
       "      <td>COMP</td>\n",
       "      <td>18</td>\n",
       "      <td>2.5</td>\n",
       "      <td>70.0</td>\n",
       "      <td>0.590</td>\n",
       "      <td>1.406</td>\n",
       "    </tr>\n",
       "  </tbody>\n",
       "</table>\n",
       "</div>"
      ],
      "text/plain": [
       "         Unnamed: 0                 eid  pub_year      afid  \\\n",
       "447722       447722   2-s2.0-0037357217      2003  60100029   \n",
       "447724       447724  2-s2.0-35248821334      2003  60100029   \n",
       "447727       447727   2-s2.0-0346266314      2004  60100029   \n",
       "447728       447728   2-s2.0-2942676751      2004  60100029   \n",
       "447730       447730  2-s2.0-33749441021      2004  60100029   \n",
       "507338       507338  2-s2.0-13844296429      2005  60100029   \n",
       "534050       534050   2-s2.0-0036976663      2002  60100029   \n",
       "534051       534051   2-s2.0-0036627460      2002  60100029   \n",
       "534052       534052   2-s2.0-0036609139      2002  60100029   \n",
       "534053       534053   2-s2.0-0036685219      2002  60100029   \n",
       "534054       534054   2-s2.0-0036143912      2002  60100029   \n",
       "534055       534055   2-s2.0-0036530207      2002  60100029   \n",
       "534419       534419   2-s2.0-0037775762      2003  60100029   \n",
       "839569       839569  2-s2.0-36649008948      2008  60100029   \n",
       "985591       985591  2-s2.0-63349087499      2009  60100029   \n",
       "1019534     1019534  2-s2.0-33845387158      2006  60100029   \n",
       "1035415     1035415  2-s2.0-70349193186      2009  60100029   \n",
       "1037879     1037879  2-s2.0-56649112814      2009  60100029   \n",
       "\n",
       "                            name area_code  inc_year     type  start-up  \\\n",
       "447722   Numerical Geometry Ltd.        CB    1994.0  company         1   \n",
       "447724   Numerical Geometry Ltd.        CB    1994.0  company         1   \n",
       "447727   Numerical Geometry Ltd.        CB    1994.0  company         1   \n",
       "447728   Numerical Geometry Ltd.        CB    1994.0  company         1   \n",
       "447730   Numerical Geometry Ltd.        CB    1994.0  company         1   \n",
       "507338   Numerical Geometry Ltd.        CB    1994.0  company         0   \n",
       "534050   Numerical Geometry Ltd.        CB    1994.0  company         1   \n",
       "534051   Numerical Geometry Ltd.        CB    1994.0  company         1   \n",
       "534052   Numerical Geometry Ltd.        CB    1994.0  company         1   \n",
       "534053   Numerical Geometry Ltd.        CB    1994.0  company         1   \n",
       "534054   Numerical Geometry Ltd.        CB    1994.0  company         1   \n",
       "534055   Numerical Geometry Ltd.        CB    1994.0  company         1   \n",
       "534419   Numerical Geometry Ltd.        CB    1994.0  company         1   \n",
       "839569   Numerical Geometry Ltd.        CB    1994.0  company         0   \n",
       "985591   Numerical Geometry Ltd.        CB    1994.0  company         0   \n",
       "1019534  Numerical Geometry Ltd.        CB    1994.0  company         0   \n",
       "1035415  Numerical Geometry Ltd.        CB    1994.0  company         0   \n",
       "1037879  Numerical Geometry Ltd.        CB    1994.0  company         0   \n",
       "\n",
       "         journal_id res_area  cites_10_yrs  cs_2011  res_area_perc  sci_jr  \\\n",
       "447722        25023     COMP            23      4.9            NaN   0.784   \n",
       "447724        25674     COMP             4      1.3           55.0   0.338   \n",
       "447727        24998     COMP            12      2.5           70.0   0.590   \n",
       "447728        24998     COMP             4      2.5           70.0   0.590   \n",
       "447730        24972     COMP            11      9.5           99.0   1.414   \n",
       "507338        28041     MATH             2      2.8           80.0   1.006   \n",
       "534050        25572     COMP             4      NaN            NaN     NaN   \n",
       "534051        25572     COMP            10      NaN            NaN     NaN   \n",
       "534052        26146     COMP            16      2.5           53.0   0.310   \n",
       "534053        26146     COMP            17      2.5           53.0   0.310   \n",
       "534054        24998     COMP            77      2.5           70.0   0.590   \n",
       "534055        24998     COMP             1      2.5           70.0   0.590   \n",
       "534419        18145     ENGI             8      3.4           90.0   0.702   \n",
       "839569        24998     COMP            43      2.5           70.0   0.590   \n",
       "985591        24998     COMP             9      2.5           70.0   0.590   \n",
       "1019534       25023     COMP            19      4.9            NaN   0.784   \n",
       "1035415       25023     COMP            24      4.9            NaN   0.784   \n",
       "1037879       24998     COMP            18      2.5           70.0   0.590   \n",
       "\n",
       "          snip  \n",
       "447722   1.865  \n",
       "447724   0.778  \n",
       "447727   1.406  \n",
       "447728   1.406  \n",
       "447730   3.603  \n",
       "507338   1.390  \n",
       "534050     NaN  \n",
       "534051     NaN  \n",
       "534052   1.103  \n",
       "534053   1.103  \n",
       "534054   1.406  \n",
       "534055   1.406  \n",
       "534419   2.458  \n",
       "839569   1.406  \n",
       "985591   1.406  \n",
       "1019534  1.865  \n",
       "1035415  1.865  \n",
       "1037879  1.406  "
      ]
     },
     "execution_count": 29,
     "metadata": {},
     "output_type": "execute_result"
    }
   ],
   "source": [
    "df[df['afid'] == 60100029]"
   ]
  },
  {
   "cell_type": "code",
   "execution_count": null,
   "metadata": {},
   "outputs": [],
   "source": []
  }
 ],
 "metadata": {
  "kernelspec": {
   "display_name": "Python 3",
   "language": "python",
   "name": "python3"
  },
  "language_info": {
   "codemirror_mode": {
    "name": "ipython",
    "version": 3
   },
   "file_extension": ".py",
   "mimetype": "text/x-python",
   "name": "python",
   "nbconvert_exporter": "python",
   "pygments_lexer": "ipython3",
   "version": "3.6.5"
  }
 },
 "nbformat": 4,
 "nbformat_minor": 2
}
