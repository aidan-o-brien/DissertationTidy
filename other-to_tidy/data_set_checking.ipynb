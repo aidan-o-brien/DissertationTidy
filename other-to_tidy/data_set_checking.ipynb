{
 "cells": [
  {
   "cell_type": "markdown",
   "metadata": {},
   "source": [
    "# Purpose\n",
    "\n",
    "The purpose of this notebook is to check the precision and recall of start-up definitions."
   ]
  },
  {
   "cell_type": "markdown",
   "metadata": {},
   "source": [
    "# Import Dependencies"
   ]
  },
  {
   "cell_type": "code",
   "execution_count": 1,
   "metadata": {},
   "outputs": [],
   "source": [
    "import pandas as pd\n",
    "import numpy as np"
   ]
  },
  {
   "cell_type": "markdown",
   "metadata": {},
   "source": [
    "# Load Data Set"
   ]
  },
  {
   "cell_type": "code",
   "execution_count": 2,
   "metadata": {},
   "outputs": [
    {
     "name": "stderr",
     "output_type": "stream",
     "text": [
      "C:\\Users\\aidan\\Anaconda3\\lib\\site-packages\\IPython\\core\\interactiveshell.py:2785: DtypeWarning: Columns (5) have mixed types.Specify dtype option on import or set low_memory=False.\n",
      "  interactivity=interactivity, compiler=compiler, result=result)\n"
     ]
    }
   ],
   "source": [
    "df = pd.read_csv(r'..\\final_data\\final_tidy.csv')"
   ]
  },
  {
   "cell_type": "markdown",
   "metadata": {},
   "source": [
    "# Load Sample"
   ]
  },
  {
   "cell_type": "code",
   "execution_count": 9,
   "metadata": {},
   "outputs": [],
   "source": [
    "start_ups = df[df['start-up'] == 1]"
   ]
  },
  {
   "cell_type": "code",
   "execution_count": 26,
   "metadata": {},
   "outputs": [
    {
     "name": "stdout",
     "output_type": "stream",
     "text": [
      "Argessus Photonics\n",
      "Medex Scientific UK Ltd.\n",
      "FiberLogix Ltd.\n",
      "BPT Security Systems (UK) Ltd\n",
      "Research Series Limited\n",
      "Key Perspectives Ltd.\n",
      "Strike Oil\n",
      "Nanocentral\n",
      "Murray WatSup Model Systems Limited\n",
      "Tribosonics Ltd.\n",
      "Improvement Foundation\n",
      "Delta Communication Ltd\n",
      "STAR Capital Partners Limited\n",
      "Killgerm Chemicals Limited\n",
      "Hartington Statistics and Data Management Ltd\n",
      "DTR VMS Limited (Formerly Avon Automotive VMS)\n",
      "Peak Cavern\n",
      "TNS Healthcare\n",
      "Christ Kennicott Water Systems Ltd\n",
      "Drayton Beaumont Kilns Ltd.\n",
      "Natural Resources International\n",
      "Quadrics Ltd.\n",
      "Mars Chocolate UK Ltd.\n",
      "VMHS Ltd.\n",
      "IXICO plc\n",
      "Centre\n",
      "Intelligent Power Systems\n",
      "Bio-Vet Solutions\n",
      "Sandy Brown Associates\n",
      "Reproduction\n",
      "PRMA Consulting\n",
      "Ankerbold International Ltd\n",
      "Worcester College\n",
      "Willingford Ltd.\n",
      "Nallatech\n",
      "Paul Illing Consultancy Services Ltd\n",
      "TECHNITEX FARADAY LIMITED\n",
      "Geotechnical Observations Limited\n",
      "Equinox Pharma Ltd.\n",
      "Cancer Research Technology\n",
      "AxFlow Limited\n",
      "Auvation Limited\n",
      "Prism Ideas Ltd.\n",
      "Audience Focus Ltd\n",
      "Charnwood Molecular Ltd\n",
      "Railway Safety\n",
      "Somero Enterprises\n",
      "Risk Intelligence Ltd\n",
      "Shell Exploration and Production\n",
      "Bunnyfoot Ltd\n"
     ]
    }
   ],
   "source": [
    "for startup in np.random.choice(start_ups['name'].unique(), size=50):\n",
    "    print(startup)"
   ]
  },
  {
   "cell_type": "markdown",
   "metadata": {},
   "source": [
    "This random sample corresponds to 10 false positives."
   ]
  },
  {
   "cell_type": "code",
   "execution_count": 27,
   "metadata": {},
   "outputs": [],
   "source": [
    "others = df[df['start-up'] == 0]"
   ]
  },
  {
   "cell_type": "code",
   "execution_count": 29,
   "metadata": {},
   "outputs": [
    {
     "name": "stdout",
     "output_type": "stream",
     "text": [
      "Stats Limited\n",
      "Ealing\n",
      "Mentholatum Company\n",
      "School of Industrial and Manufacturing Science\n",
      "Sam Houston State University\n",
      "Exitech Ltd\n",
      "Keele University\n",
      "Institute of Medical Laboratory Sciences\n",
      "Morganite Electrical Carbon Ltd.\n",
      "School Barn Farm\n",
      "School Health and Social Sciences\n",
      "NEWTYLE\n",
      "Pipeline Maintenance Ltd.\n",
      "Mass Consultants Limited\n",
      "Matrix Science\n",
      "Plan Bee\n",
      "School of Public Health\n",
      "London School of Acupuncture and Traditional Chinese Medicine (LSATCM\n",
      "Northern Lincolnshire and Goole NHS Foundation Trust\n",
      "Boundary House\n",
      "Stonewall Equality Limited\n",
      "Division of Orbik ELectronics Ltd.\n",
      "Bloomsbury\n",
      "Kemnay Medical Group\n",
      "School of Law\n",
      "Ash Green\n",
      "JMP Consultants\n",
      "Micronclean (Newbury)\n",
      "Tesco Plc\n",
      "Preferred Futures\n",
      "Durham County Council\n",
      "Mousehold First School and Nursery\n",
      "BMT Cordah Ltd.\n",
      "IMCA Socrates Ltd\n",
      "Perimeter Institute for Theoretical Physics\n",
      "Foundation for Growth Through Grieving\n",
      "MDHU\n",
      "Bradtec Decon Technologies Ltd\n",
      "Core Magnetics\n",
      "Lion Seeds Ltd.\n",
      "Jubilee 2000 Coalition\n",
      "Orogen Limited\n",
      "Engineering Design Centre\n",
      "Wellcome Surgical Institute\n",
      "Institut d'Études Politiques\n",
      "Operational Research Society\n",
      "Cambridge Laboratory\n",
      "Parker Hannifin Plc.\n",
      "European Corporate Governance Institute\n",
      "Millennia Ltd.\n"
     ]
    }
   ],
   "source": [
    "for other in np.random.choice(others['name'].unique(), size=50):\n",
    "    print(other)"
   ]
  },
  {
   "cell_type": "markdown",
   "metadata": {},
   "source": [
    "Three false negatives identified."
   ]
  },
  {
   "cell_type": "code",
   "execution_count": null,
   "metadata": {},
   "outputs": [],
   "source": []
  }
 ],
 "metadata": {
  "kernelspec": {
   "display_name": "Python 3",
   "language": "python",
   "name": "python3"
  },
  "language_info": {
   "codemirror_mode": {
    "name": "ipython",
    "version": 3
   },
   "file_extension": ".py",
   "mimetype": "text/x-python",
   "name": "python",
   "nbconvert_exporter": "python",
   "pygments_lexer": "ipython3",
   "version": "3.6.5"
  }
 },
 "nbformat": 4,
 "nbformat_minor": 2
}
