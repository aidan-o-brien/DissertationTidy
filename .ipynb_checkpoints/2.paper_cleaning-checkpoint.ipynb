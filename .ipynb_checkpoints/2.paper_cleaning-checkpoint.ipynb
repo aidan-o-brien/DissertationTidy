{
 "cells": [
  {
   "cell_type": "markdown",
   "metadata": {},
   "source": [
    "# Purpose\n",
    "\n",
    "\n",
    "+ Clean data from Scopus into a more friendly format\n",
    "+ Get data on affiliations from Scopus\n",
    "+ Identify UK affiliations"
   ]
  },
  {
   "cell_type": "markdown",
   "metadata": {},
   "source": [
    "# Import Dependencies"
   ]
  },
  {
   "cell_type": "code",
   "execution_count": 1,
   "metadata": {},
   "outputs": [],
   "source": [
    "import pandas as pd\n",
    "import numpy as np\n",
    "import glob\n",
    "import os\n",
    "from pybliometrics.scopus import AffiliationRetrieval"
   ]
  },
  {
   "cell_type": "markdown",
   "metadata": {},
   "source": [
    "# Load Data"
   ]
  },
  {
   "cell_type": "code",
   "execution_count": 2,
   "metadata": {},
   "outputs": [],
   "source": [
    "data = pd.read_csv(os.getcwd() + r'\\data\\data.csv')"
   ]
  },
  {
   "cell_type": "markdown",
   "metadata": {},
   "source": [
    "# Cleaning\n",
    "\n",
    "Separate rows into individual affiliations and keep only UK based affiliations."
   ]
  },
  {
   "cell_type": "code",
   "execution_count": 3,
   "metadata": {},
   "outputs": [],
   "source": [
    "def string_to_list(df):\n",
    "    \"\"\"Takes in raw Scopus dataframe and splits affiliation data\n",
    "    for each paper into lists of affiliations.\"\"\"\n",
    "\n",
    "    # Remove special characters\n",
    "    df['affilname'] = df.affilname.str.replace('&amp;', '')\n",
    "    df['affilname'] = df.affilname.str.replace('acute;', '')\n",
    "\n",
    "    # Split the fields by semi-colon\n",
    "    df['afid'] = df['afid'].str.split(pat=';')\n",
    "    df['affilname'] = df['affilname'].str.split(pat=';')\n",
    "    df['affiliation_city'] = df['affiliation_city'].str.split(pat=';')\n",
    "    df['affiliation_country'] = df['affiliation_country'].str.split(pat=';')\n",
    "\n",
    "    # Create empty list if nan - deal with bug finding indices\n",
    "    bug_catcher = lambda x: x if isinstance(x, list) else []\n",
    "    df['affilname'] = df['affilname'].apply(bug_catcher)\n",
    "    df['affiliation_country'] = df['affiliation_country'].apply(bug_catcher)\n",
    "    \n",
    "    return df"
   ]
  },
  {
   "cell_type": "code",
   "execution_count": 4,
   "metadata": {},
   "outputs": [],
   "source": [
    "def find_indices(df):\n",
    "    \"\"\"Updates a data frame to add a column indicating whether\n",
    "    the list of affiliations for each paper are based in the UK.\"\"\"\n",
    "    \n",
    "    get_uk_idx = lambda x: [1 if i == 'United Kingdom' else 0 for i in x]\n",
    "    df['encoding'] = df['affiliation_country'].apply(get_uk_idx)\n",
    "    \n",
    "    return df"
   ]
  },
  {
   "cell_type": "code",
   "execution_count": 5,
   "metadata": {},
   "outputs": [],
   "source": [
    "def add_UK_affil_data(df):\n",
    "    \"\"\"Find all UK affiliations for each paper using the\n",
    "    boolean array entitled 'encoding'. Create new colums\n",
    "    with only UK affiliation data.\"\"\"\n",
    "    \n",
    "    # Add columns for UK only to df\n",
    "    df['uk_afid'] = None\n",
    "    df['uk_affil_name'] = None\n",
    "    df['uk_affil_city'] = None\n",
    "    \n",
    "    id_errors = 0\n",
    "    name_errors = 0\n",
    "    city_errors = 0\n",
    "    \n",
    "    # Loop through df and create an array of only uk affiliations\n",
    "    for row in df.itertuples():\n",
    "        \n",
    "        # Create boolean array\n",
    "        idx = row.Index\n",
    "        bool_list = list(map(bool, row.encoding))\n",
    "        encoding_array = np.array(bool_list) \n",
    "        \n",
    "        # Create arrays to be indexed by boolean array\n",
    "        affil_array = np.array(row.affilname)\n",
    "        afid_array = np.array(row.afid)\n",
    "        affil_city_array = np.array(row.affiliation_city)\n",
    "        \n",
    "        # Try setting UK affiliation id array\n",
    "        try:\n",
    "            uk_afid = afid_array[encoding_array]\n",
    "            df.iat[idx, 11] = uk_afid\n",
    "        except:\n",
    "            df.iat[idx, 11] = np.nan\n",
    "            id_errors += 1\n",
    "        \n",
    "        # Try setting UK affiliation name array\n",
    "        try:\n",
    "            uk_affil_name = affil_array[encoding_array]\n",
    "            df.iat[idx, 12] = uk_affil_name\n",
    "        except:\n",
    "            df.iat[idx, 12] = np.nan\n",
    "            name_errors += 1\n",
    "        \n",
    "        # Try setting UK affiliation city array\n",
    "        try:\n",
    "            uk_affil_city = affil_city_array[encoding_array]\n",
    "            df.iat[idx, 13] = uk_affil_city\n",
    "        except:\n",
    "            df.iat[idx, 13] = np.nan\n",
    "            city_errors += 1\n",
    "\n",
    "    print('ID errors:', id_errors)\n",
    "    print('Name errors:', name_errors)\n",
    "    print('City errors:', city_errors)\n",
    "\n",
    "    return df"
   ]
  },
  {
   "cell_type": "markdown",
   "metadata": {},
   "source": [
    "__Execute__"
   ]
  },
  {
   "cell_type": "code",
   "execution_count": 6,
   "metadata": {},
   "outputs": [
    {
     "name": "stdout",
     "output_type": "stream",
     "text": [
      "Removed 1032 out of 79170 due to no affiliation data provided.\n",
      "ID errors: 28\n",
      "Name errors: 33\n",
      "City errors: 535\n"
     ]
    }
   ],
   "source": [
    "# Split string of affiliation data into lists\n",
    "data = string_to_list(data)\n",
    "\n",
    "# Remove papers that do not have affiliations\n",
    "before = data.shape[0]\n",
    "data.dropna(subset=['afid'], inplace=True)\n",
    "print(f'Removed {before - data.shape[0]} out of {data.shape[0]} due to no affiliation data provided.')\n",
    "\n",
    "# Reset index\n",
    "data.reset_index(drop=True, inplace=True)\n",
    "\n",
    "# Add boolean array to locate UK affiliations\n",
    "data = find_indices(data)\n",
    "\n",
    "# Locate UK affiliations\n",
    "data = add_UK_affil_data(data)"
   ]
  },
  {
   "cell_type": "code",
   "execution_count": 7,
   "metadata": {},
   "outputs": [
    {
     "data": {
      "text/html": [
       "<div>\n",
       "<style scoped>\n",
       "    .dataframe tbody tr th:only-of-type {\n",
       "        vertical-align: middle;\n",
       "    }\n",
       "\n",
       "    .dataframe tbody tr th {\n",
       "        vertical-align: top;\n",
       "    }\n",
       "\n",
       "    .dataframe thead th {\n",
       "        text-align: right;\n",
       "    }\n",
       "</style>\n",
       "<table border=\"1\" class=\"dataframe\">\n",
       "  <thead>\n",
       "    <tr style=\"text-align: right;\">\n",
       "      <th></th>\n",
       "      <th>Unnamed: 0</th>\n",
       "      <th>eid</th>\n",
       "      <th>title</th>\n",
       "      <th>coverDate</th>\n",
       "      <th>source_id</th>\n",
       "      <th>publicationName</th>\n",
       "      <th>afid</th>\n",
       "      <th>affilname</th>\n",
       "      <th>affiliation_city</th>\n",
       "      <th>affiliation_country</th>\n",
       "      <th>encoding</th>\n",
       "      <th>uk_afid</th>\n",
       "      <th>uk_affil_name</th>\n",
       "      <th>uk_affil_city</th>\n",
       "    </tr>\n",
       "  </thead>\n",
       "  <tbody>\n",
       "    <tr>\n",
       "      <th>0</th>\n",
       "      <td>0</td>\n",
       "      <td>2-s2.0-0034739787</td>\n",
       "      <td>Regulation of steroid sulphatase expression an...</td>\n",
       "      <td>2000-12-31</td>\n",
       "      <td>14102</td>\n",
       "      <td>Journal of Steroid Biochemistry and Molecular ...</td>\n",
       "      <td>[60030480, 60022871]</td>\n",
       "      <td>[University of Bath, St Mary's Hospital]</td>\n",
       "      <td>[Bath, London]</td>\n",
       "      <td>[United Kingdom, United Kingdom]</td>\n",
       "      <td>[1, 1]</td>\n",
       "      <td>[60030480, 60022871]</td>\n",
       "      <td>[University of Bath, St Mary's Hospital]</td>\n",
       "      <td>[Bath, London]</td>\n",
       "    </tr>\n",
       "  </tbody>\n",
       "</table>\n",
       "</div>"
      ],
      "text/plain": [
       "   Unnamed: 0                eid  \\\n",
       "0           0  2-s2.0-0034739787   \n",
       "\n",
       "                                               title   coverDate  source_id  \\\n",
       "0  Regulation of steroid sulphatase expression an...  2000-12-31      14102   \n",
       "\n",
       "                                     publicationName                  afid  \\\n",
       "0  Journal of Steroid Biochemistry and Molecular ...  [60030480, 60022871]   \n",
       "\n",
       "                                  affilname affiliation_city  \\\n",
       "0  [University of Bath, St Mary's Hospital]   [Bath, London]   \n",
       "\n",
       "                affiliation_country encoding               uk_afid  \\\n",
       "0  [United Kingdom, United Kingdom]   [1, 1]  [60030480, 60022871]   \n",
       "\n",
       "                              uk_affil_name   uk_affil_city  \n",
       "0  [University of Bath, St Mary's Hospital]  [Bath, London]  "
      ]
     },
     "execution_count": 7,
     "metadata": {},
     "output_type": "execute_result"
    }
   ],
   "source": [
    "data.head(1)"
   ]
  },
  {
   "cell_type": "markdown",
   "metadata": {},
   "source": [
    "### Error Analysis\n",
    "\n",
    "__Papers that had ID errors__\n",
    "\n",
    "These were errors because they do not have country data and therefore could not produce an encoding array for country. It seems like the majority of them are just on institution and are UK related (due to the UK search). Therefore, I'm going to keep these in the data set.\n",
    "\n",
    "__Papers that had name errors__\n",
    "\n",
    "These include the same errors as the above BUT there are more. The additional errors come from poor formatting of the institute names. I think it comes from the fact that some institute names have ';' within them. This means that they are split into different institutions during the extraction of data. Since these are relatively few and far between, I don't think it is unreasonable to drop these. For example, 2000 has 5, 2001 has 6, 2002 has 12.\n",
    "\n",
    "__Papers that had city errors__\n",
    "\n",
    "These cause errors because the affiliation does not have a city associated with it. This could have happened because a non-UK institution didn't have a city with it though. I would like to keep the papers that only have affilname.\n",
    "\n",
    "I would like to look at the entries that have length more than 1 for affilname - none of them are! Therefore, I am happy to keep them all. To keep these records, the uk_afid needs to be complete."
   ]
  },
  {
   "cell_type": "markdown",
   "metadata": {},
   "source": [
    "__Add extra affiliations__\n",
    "\n",
    "If there was only one affiliation but no city was reported, add this affiliations to the UK affiliations."
   ]
  },
  {
   "cell_type": "code",
   "execution_count": 8,
   "metadata": {},
   "outputs": [],
   "source": [
    "def add_extra_afid(x):\n",
    "    if (isinstance(x['uk_affil_city'], float)) & (len(x['affilname']) == 1):\n",
    "        return x['afid']\n",
    "    else:\n",
    "        return x['uk_afid']\n",
    "    \n",
    "def add_extra_affilname(x):\n",
    "    if (isinstance(x['uk_affil_city'], float)) & (len(x['affilname']) == 1):\n",
    "        return x['affilname']\n",
    "    else:\n",
    "        return x['uk_affil_name']\n",
    "\n",
    "data['uk_afid'] = data.apply(lambda x: add_extra_afid(x), axis=1)\n",
    "data['uk_affil_name'] = data.apply(lambda x: add_extra_affilname(x), axis=1)"
   ]
  },
  {
   "cell_type": "markdown",
   "metadata": {},
   "source": [
    "# Create a dataframe of UK affiliations"
   ]
  },
  {
   "cell_type": "code",
   "execution_count": 9,
   "metadata": {},
   "outputs": [],
   "source": [
    "def create_uk_df(df):\n",
    "    \n",
    "    af_ids = []\n",
    "    affil_names = []\n",
    "    affil_cities = []\n",
    "\n",
    "    for row in df.itertuples():\n",
    "\n",
    "        names = row.uk_affil_name\n",
    "        # Skip papers where UK num_ids != num_names (due to name splitting error)\n",
    "        if isinstance(names, float):\n",
    "            if pd.isnull(names):\n",
    "                continue\n",
    "        # Skip papers with no UK institutions that somehow sneaked in\n",
    "        elif isinstance(row.encoding, np.ndarray):\n",
    "            if names.all() == 0:\n",
    "                continue\n",
    "\n",
    "        # Loop through each institution associated with this paper\n",
    "        for j, afid in enumerate(row.uk_afid):\n",
    "\n",
    "            # If institution not already in list, add to list\n",
    "            if afid not in af_ids:\n",
    "                af_ids.append(afid)\n",
    "                affil_names.append(row.uk_affil_name[j])\n",
    "                # Some affiliations do not have city data\n",
    "                try:\n",
    "                    affil_cities.append(row.uk_affil_city[j])\n",
    "                except:\n",
    "                    affil_cities.append(np.nan)\n",
    "    \n",
    "    d = {'af_id': af_ids, 'affil_name': affil_names, 'affil_city': affil_cities}\n",
    "    formatted_df = pd.DataFrame(data=d)\n",
    "    \n",
    "    return formatted_df\n",
    "\n",
    "\n",
    "uk_only_df = create_uk_df(data)"
   ]
  },
  {
   "cell_type": "code",
   "execution_count": 10,
   "metadata": {},
   "outputs": [
    {
     "data": {
      "text/html": [
       "<div>\n",
       "<style scoped>\n",
       "    .dataframe tbody tr th:only-of-type {\n",
       "        vertical-align: middle;\n",
       "    }\n",
       "\n",
       "    .dataframe tbody tr th {\n",
       "        vertical-align: top;\n",
       "    }\n",
       "\n",
       "    .dataframe thead th {\n",
       "        text-align: right;\n",
       "    }\n",
       "</style>\n",
       "<table border=\"1\" class=\"dataframe\">\n",
       "  <thead>\n",
       "    <tr style=\"text-align: right;\">\n",
       "      <th></th>\n",
       "      <th>af_id</th>\n",
       "      <th>affil_name</th>\n",
       "      <th>affil_city</th>\n",
       "    </tr>\n",
       "  </thead>\n",
       "  <tbody>\n",
       "    <tr>\n",
       "      <th>0</th>\n",
       "      <td>60030480</td>\n",
       "      <td>University of Bath</td>\n",
       "      <td>Bath</td>\n",
       "    </tr>\n",
       "    <tr>\n",
       "      <th>1</th>\n",
       "      <td>60022871</td>\n",
       "      <td>St Mary's Hospital</td>\n",
       "      <td>London</td>\n",
       "    </tr>\n",
       "    <tr>\n",
       "      <th>2</th>\n",
       "      <td>60022148</td>\n",
       "      <td>University College London</td>\n",
       "      <td>London</td>\n",
       "    </tr>\n",
       "    <tr>\n",
       "      <th>3</th>\n",
       "      <td>60011520</td>\n",
       "      <td>King's College London</td>\n",
       "      <td>London</td>\n",
       "    </tr>\n",
       "    <tr>\n",
       "      <th>4</th>\n",
       "      <td>60003771</td>\n",
       "      <td>The University of Manchester</td>\n",
       "      <td>Manchester</td>\n",
       "    </tr>\n",
       "  </tbody>\n",
       "</table>\n",
       "</div>"
      ],
      "text/plain": [
       "      af_id                    affil_name  affil_city\n",
       "0  60030480            University of Bath        Bath\n",
       "1  60022871            St Mary's Hospital      London\n",
       "2  60022148     University College London      London\n",
       "3  60011520         King's College London      London\n",
       "4  60003771  The University of Manchester  Manchester"
      ]
     },
     "execution_count": 10,
     "metadata": {},
     "output_type": "execute_result"
    }
   ],
   "source": [
    "uk_only_df.head()"
   ]
  },
  {
   "cell_type": "markdown",
   "metadata": {},
   "source": [
    "# Get affiliation data from Scopus"
   ]
  },
  {
   "cell_type": "code",
   "execution_count": 11,
   "metadata": {},
   "outputs": [],
   "source": [
    "def get_affil_data(df):\n",
    "    \"\"\"Loop through affiliations and try to retrieve\n",
    "    corresponding data from Scopus.\"\"\"\n",
    "    \n",
    "    # Create columns to hold data\n",
    "    df['address'] = ''\n",
    "    df['postal_code'] = ''\n",
    "    df['type'] = ''\n",
    "    \n",
    "    # Scopus search result does not work\n",
    "    not_working = [4423, 5413]\n",
    "    \n",
    "    # Loop over affiliations\n",
    "    for row in df.itertuples():\n",
    "        \n",
    "        if row.Index in not_working:\n",
    "            continue\n",
    "        \n",
    "        if row.postal_code == '':\n",
    "            try:\n",
    "                resp = AffiliationRetrieval(row.af_id)\n",
    "                df.iat[row.Index, 3] = resp.address\n",
    "                df.iat[row.Index, 4] = resp.postal_code\n",
    "                df.iat[row.Index, 5] = resp.org_type\n",
    "            except Exception as e:\n",
    "                print(row.Index, e)\n",
    "                return df\n",
    "        else:\n",
    "            continue\n",
    "            \n",
    "    return df\n",
    "\n",
    "\n",
    "uk_only_df = get_affil_data(uk_only_df)"
   ]
  },
  {
   "cell_type": "code",
   "execution_count": 12,
   "metadata": {},
   "outputs": [
    {
     "data": {
      "text/html": [
       "<div>\n",
       "<style scoped>\n",
       "    .dataframe tbody tr th:only-of-type {\n",
       "        vertical-align: middle;\n",
       "    }\n",
       "\n",
       "    .dataframe tbody tr th {\n",
       "        vertical-align: top;\n",
       "    }\n",
       "\n",
       "    .dataframe thead th {\n",
       "        text-align: right;\n",
       "    }\n",
       "</style>\n",
       "<table border=\"1\" class=\"dataframe\">\n",
       "  <thead>\n",
       "    <tr style=\"text-align: right;\">\n",
       "      <th></th>\n",
       "      <th>af_id</th>\n",
       "      <th>affil_name</th>\n",
       "      <th>affil_city</th>\n",
       "      <th>address</th>\n",
       "      <th>postal_code</th>\n",
       "      <th>type</th>\n",
       "    </tr>\n",
       "  </thead>\n",
       "  <tbody>\n",
       "    <tr>\n",
       "      <th>0</th>\n",
       "      <td>60030480</td>\n",
       "      <td>University of Bath</td>\n",
       "      <td>Bath</td>\n",
       "      <td>Claverton Down</td>\n",
       "      <td>BA2 7AY</td>\n",
       "      <td>univ</td>\n",
       "    </tr>\n",
       "    <tr>\n",
       "      <th>1</th>\n",
       "      <td>60022871</td>\n",
       "      <td>St Mary's Hospital</td>\n",
       "      <td>London</td>\n",
       "      <td>Praed Street</td>\n",
       "      <td>W2 1NY</td>\n",
       "      <td>hosp</td>\n",
       "    </tr>\n",
       "    <tr>\n",
       "      <th>2</th>\n",
       "      <td>60022148</td>\n",
       "      <td>University College London</td>\n",
       "      <td>London</td>\n",
       "      <td>Gower Street</td>\n",
       "      <td>WC1E 6BT</td>\n",
       "      <td>univ</td>\n",
       "    </tr>\n",
       "    <tr>\n",
       "      <th>3</th>\n",
       "      <td>60011520</td>\n",
       "      <td>King's College London</td>\n",
       "      <td>London</td>\n",
       "      <td>Strand</td>\n",
       "      <td>WC2R 2LS</td>\n",
       "      <td>univ</td>\n",
       "    </tr>\n",
       "    <tr>\n",
       "      <th>4</th>\n",
       "      <td>60003771</td>\n",
       "      <td>The University of Manchester</td>\n",
       "      <td>Manchester</td>\n",
       "      <td>Oxford Road</td>\n",
       "      <td>M13 9PL</td>\n",
       "      <td>univ</td>\n",
       "    </tr>\n",
       "  </tbody>\n",
       "</table>\n",
       "</div>"
      ],
      "text/plain": [
       "      af_id                    affil_name  affil_city         address  \\\n",
       "0  60030480            University of Bath        Bath  Claverton Down   \n",
       "1  60022871            St Mary's Hospital      London    Praed Street   \n",
       "2  60022148     University College London      London    Gower Street   \n",
       "3  60011520         King's College London      London          Strand   \n",
       "4  60003771  The University of Manchester  Manchester     Oxford Road   \n",
       "\n",
       "  postal_code  type  \n",
       "0     BA2 7AY  univ  \n",
       "1      W2 1NY  hosp  \n",
       "2    WC1E 6BT  univ  \n",
       "3    WC2R 2LS  univ  \n",
       "4     M13 9PL  univ  "
      ]
     },
     "execution_count": 12,
     "metadata": {},
     "output_type": "execute_result"
    }
   ],
   "source": [
    "uk_only_df.head()"
   ]
  },
  {
   "cell_type": "markdown",
   "metadata": {},
   "source": [
    "# Summary of Scopus data\n",
    "\n",
    "Of the 48060 affiliations:\n",
    "\n",
    "* 16537 do not have post code\n",
    "* 45132 do not have affil type\n",
    "* 16422 do not have post code or affil type\n",
    "\n",
    "Of the 2928 that have affil type:\n",
    "\n",
    "* 887 are companies\n",
    "* 134 are government\n",
    "* 807 are hospitals\n",
    "* 370 are universities\n",
    "* 297 are residencies\n",
    "* 238 are national governments"
   ]
  },
  {
   "cell_type": "markdown",
   "metadata": {},
   "source": [
    "# Save UK affiliations"
   ]
  },
  {
   "cell_type": "code",
   "execution_count": 13,
   "metadata": {},
   "outputs": [],
   "source": [
    "uk_only_df.to_csv(os.getcwd() + r'\\data\\uk_affils.csv', index=False)"
   ]
  },
  {
   "cell_type": "code",
   "execution_count": null,
   "metadata": {},
   "outputs": [],
   "source": []
  }
 ],
 "metadata": {
  "kernelspec": {
   "display_name": "Python 3",
   "language": "python",
   "name": "python3"
  },
  "language_info": {
   "codemirror_mode": {
    "name": "ipython",
    "version": 3
   },
   "file_extension": ".py",
   "mimetype": "text/x-python",
   "name": "python",
   "nbconvert_exporter": "python",
   "pygments_lexer": "ipython3",
   "version": "3.6.5"
  }
 },
 "nbformat": 4,
 "nbformat_minor": 2
}
