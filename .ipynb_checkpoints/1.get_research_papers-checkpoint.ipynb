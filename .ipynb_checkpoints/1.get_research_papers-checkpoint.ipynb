{
 "cells": [
  {
   "cell_type": "markdown",
   "metadata": {},
   "source": [
    "# Purpose\n",
    "\n",
    "The purpose of this notebook is to retrieve data from Scopus and save it down into local directory."
   ]
  },
  {
   "cell_type": "markdown",
   "metadata": {},
   "source": [
    "# Import Dependencies"
   ]
  },
  {
   "cell_type": "code",
   "execution_count": 3,
   "metadata": {},
   "outputs": [],
   "source": [
    "import pandas as pd\n",
    "from pybliometrics.scopus import ScopusSearch\n",
    "from datetime import datetime\n",
    "import os"
   ]
  },
  {
   "cell_type": "markdown",
   "metadata": {},
   "source": [
    "# Get Data\n",
    "\n",
    "Note: You have to have access to Scopus in order to download these data. You may also need to be connected to a VPN e.g. your university VPN."
   ]
  },
  {
   "cell_type": "code",
   "execution_count": 2,
   "metadata": {},
   "outputs": [],
   "source": [
    "def get_papers(year):\n",
    "\n",
    "    print(f'Searching for {year}...')\n",
    "    \n",
    "    tick = datetime.now()\n",
    "    query = f'DOCTYPE ( ar )  AND  AFFIL ( united  AND kingdom )  AND  PUBYEAR  =  {year}'\n",
    "    s = ScopusSearch(query)\n",
    "    tock = datetime.now()\n",
    "    \n",
    "    print(f'Completed in {tock - tick}')\n",
    "    \n",
    "    return pd.DataFrame(pd.DataFrame(s.results))"
   ]
  },
  {
   "cell_type": "markdown",
   "metadata": {},
   "source": [
    "__Obtain data for each year__"
   ]
  },
  {
   "cell_type": "code",
   "execution_count": 9,
   "metadata": {},
   "outputs": [
    {
     "name": "stdout",
     "output_type": "stream",
     "text": [
      "Searching for 2000...\n",
      "Completed in 0:00:08.840028\n"
     ]
    }
   ],
   "source": [
    "abstracts = []\n",
    "data = []\n",
    "\n",
    "for year in range(2000, 2009):\n",
    "    \n",
    "    df = get_papers(year)\n",
    "    \n",
    "    # Add abstracts to own data frame - paper identifier and abstracts only\n",
    "    abstracts.append(df[['eid', 'description']])\n",
    "    \n",
    "    # Add other data to own data frame\n",
    "    columns = ['eid', 'title', 'coverDate', 'source_id', 'publicationName', 'afid', 'affilname', \n",
    "               'affiliation_city', 'affiliation_country']\n",
    "    data.append(df[columns])\n",
    "    \n",
    "    # for illustration, use only one year\n",
    "    break\n",
    "\n",
    "abstracts = pd.concat(abstracts, ignore_index=True)\n",
    "data = pd.concat(data, ignore_index=True)\n",
    "    \n",
    "# Save dfs\n",
    "#os.mkdir('data')\n",
    "abstracts.to_csv(os.getcwd() + r'\\data\\abstracts.csv')\n",
    "data.to_csv(os.getcwd() + r'\\data\\data.csv')"
   ]
  },
  {
   "cell_type": "code",
   "execution_count": null,
   "metadata": {},
   "outputs": [],
   "source": []
  }
 ],
 "metadata": {
  "kernelspec": {
   "display_name": "Python 3",
   "language": "python",
   "name": "python3"
  },
  "language_info": {
   "codemirror_mode": {
    "name": "ipython",
    "version": 3
   },
   "file_extension": ".py",
   "mimetype": "text/x-python",
   "name": "python",
   "nbconvert_exporter": "python",
   "pygments_lexer": "ipython3",
   "version": "3.6.5"
  }
 },
 "nbformat": 4,
 "nbformat_minor": 2
}
